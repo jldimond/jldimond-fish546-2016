{
 "cells": [
  {
   "cell_type": "markdown",
   "metadata": {},
   "source": [
    "# This script is designed to run the demultiplexing step of ipyrad (step 1) for each of the 12 separate raw data libraries."
   ]
  },
  {
   "cell_type": "code",
   "execution_count": 1,
   "metadata": {
    "collapsed": false
   },
   "outputs": [
    {
     "name": "stdout",
     "output_type": "stream",
     "text": [
      "/Users/jd/Documents/Projects/PoritesRADseq/ipyrad_analysis\n"
     ]
    }
   ],
   "source": [
    "cd /Users/jd/Documents/Projects/PoritesRADseq/ipyrad_analysis/"
   ]
  },
  {
   "cell_type": "code",
   "execution_count": 3,
   "metadata": {
    "collapsed": false
   },
   "outputs": [
    {
     "name": "stdout",
     "output_type": "stream",
     "text": [
      "Untitled.ipynb             data1_J.json\r\n",
      "barcodes_A.txt             \u001b[34mdata1_J_fastqs\u001b[m\u001b[m\r\n",
      "barcodes_B.txt             data1_K.json\r\n",
      "barcodes_C.txt             \u001b[34mdata1_K_fastqs\u001b[m\u001b[m\r\n",
      "barcodes_D.txt             data1_L.json\r\n",
      "barcodes_E.txt             \u001b[34mdata1_L_fastqs\u001b[m\u001b[m\r\n",
      "barcodes_F.txt             data1_assembly.ipynb\r\n",
      "barcodes_G.txt             \u001b[34mdata1_edits\u001b[m\u001b[m\r\n",
      "barcodes_H.txt             \u001b[34mdata1_fastqs\u001b[m\u001b[m\r\n",
      "barcodes_I.txt             depth_all.gdepth\r\n",
      "barcodes_J.txt             depth_all.idepth\r\n",
      "barcodes_K.txt             depth_all.log\r\n",
      "barcodes_L.txt             depth_summary.txt\r\n",
      "data1.json                 ipyrad_log.txt\r\n",
      "data1_B.json               out.frq\r\n",
      "\u001b[34mdata1_B_fastqs\u001b[m\u001b[m             out.log\r\n",
      "data1_C.json               params-data1_A.txt\r\n",
      "\u001b[34mdata1_C_fastqs\u001b[m\u001b[m             params-data1_B.txt\r\n",
      "data1_D.json               params-data1_C.txt\r\n",
      "\u001b[34mdata1_D_fastqs\u001b[m\u001b[m             params-data1_D.txt\r\n",
      "data1_E.json               params-data1_E.txt\r\n",
      "\u001b[34mdata1_E_fastqs\u001b[m\u001b[m             params-data1_F.txt\r\n",
      "data1_F.json               params-data1_G.txt\r\n",
      "\u001b[34mdata1_F_fastqs\u001b[m\u001b[m             params-data1_H.txt\r\n",
      "data1_G.json               params-data1_I.txt\r\n",
      "\u001b[34mdata1_G_edits\u001b[m\u001b[m              params-data1_J.txt\r\n",
      "\u001b[34mdata1_G_fastqs\u001b[m\u001b[m             params-data1_K.txt\r\n",
      "data1_H.json               params-data1_L.txt\r\n",
      "\u001b[34mdata1_H_fastqs\u001b[m\u001b[m             s1_demultiplex_stats_A.txt\r\n",
      "data1_I.json               \u001b[31mscript_ipy.sh\u001b[m\u001b[m\r\n",
      "\u001b[34mdata1_I_fastqs\u001b[m\u001b[m\r\n"
     ]
    }
   ],
   "source": [
    "!ls"
   ]
  },
  {
   "cell_type": "code",
   "execution_count": 12,
   "metadata": {
    "collapsed": false
   },
   "outputs": [
    {
     "name": "stdout",
     "output_type": "stream",
     "text": [
      "#!/bin/bash\r\n",
      "file_array=($(find . -name 'params*'))  # find all parameters files\r\n",
      "for i in $file_array  # loop to run the demultiplexing step of ipyrad on each params file\r\n",
      "\tdo\r\n",
      "\t/Users/jd/anaconda/bin/ipyrad -p $i -s 1\r\n",
      "done"
     ]
    }
   ],
   "source": [
    "!cat script_ipy.sh"
   ]
  },
  {
   "cell_type": "code",
   "execution_count": 5,
   "metadata": {
    "collapsed": true
   },
   "outputs": [],
   "source": [
    "!chmod +x script_ipy.sh"
   ]
  },
  {
   "cell_type": "code",
   "execution_count": 11,
   "metadata": {
    "collapsed": false
   },
   "outputs": [
    {
     "name": "stdout",
     "output_type": "stream",
     "text": [
      "\n",
      " -------------------------------------------------------------\n",
      "  ipyrad [v.0.3.35]\n",
      "  Interactive assembly and analysis of RAD-seq data\n",
      " -------------------------------------------------------------\n",
      "  loading Assembly: data1\n",
      "  from saved path: ~/Documents/Projects/PoritesRADseq/ipyrad_analysis/data1.json\n",
      "    The value entered for the path to the raw fastq file is unrecognized. \n",
      "    Please be sure this path is correct. Double check the file name and \n",
      "    the file extension. If it is a relative path be sure the path is \n",
      "    correct with respect to the directory you're running ipyrad from.\n",
      "    \n"
     ]
    }
   ],
   "source": [
    "!./script_ipy.sh"
   ]
  },
  {
   "cell_type": "markdown",
   "metadata": {},
   "source": [
    "# Apprently I deleted the raw data directory on this computer, but the loop appears to work. I will test it in earnest during my next run."
   ]
  },
  {
   "cell_type": "code",
   "execution_count": null,
   "metadata": {
    "collapsed": true
   },
   "outputs": [],
   "source": []
  }
 ],
 "metadata": {
  "anaconda-cloud": {},
  "kernelspec": {
   "display_name": "Python [Root]",
   "language": "python",
   "name": "Python [Root]"
  },
  "language_info": {
   "codemirror_mode": {
    "name": "ipython",
    "version": 2
   },
   "file_extension": ".py",
   "mimetype": "text/x-python",
   "name": "python",
   "nbconvert_exporter": "python",
   "pygments_lexer": "ipython2",
   "version": "2.7.12"
  }
 },
 "nbformat": 4,
 "nbformat_minor": 0
}
