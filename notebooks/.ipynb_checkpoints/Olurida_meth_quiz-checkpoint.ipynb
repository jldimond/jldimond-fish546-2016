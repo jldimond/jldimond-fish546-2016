{
 "cells": [
  {
   "cell_type": "markdown",
   "metadata": {
    "collapsed": false
   },
   "source": [
    "I chose this region:"
   ]
  },
  {
   "cell_type": "code",
   "execution_count": 22,
   "metadata": {
    "collapsed": false
   },
   "outputs": [
    {
     "name": "stdout",
     "output_type": "stream",
     "text": [
      "/bin/sh: -c: line 0: syntax error near unexpected token `https://github.com/jldimond/jldimond-fish546-2016/tree/Macbook_local/images/ScreenShot2016-11-08_3.58.58.png?raw=true'\r\n",
      "/bin/sh: -c: line 0: `[region](https://github.com/jldimond/jldimond-fish546-2016/tree/Macbook_local/images/ScreenShot2016-11-08_3.58.58.png?raw=true)'\r\n"
     ]
    }
   ],
   "source": [
    "![region](https://github.com/jldimond/jldimond-fish546-2016/tree/Macbook_local/images/ScreenShot2016-11-08_3.58.58.png?raw=true)"
   ]
  },
  {
   "cell_type": "code",
   "execution_count": 7,
   "metadata": {
    "collapsed": false
   },
   "outputs": [
    {
     "name": "stdout",
     "output_type": "stream",
     "text": [
      ">lcl|scaffold1961\r\n",
      "GGTGTAAAGAGGGTCATGACCACTTAACCATGACCGGGCAATTTGTGATGGGGCGTCGTAGGATACGAGATTTTGGTGGA\r\n",
      "TATTACGAGATTATAGTGTCACCAATCTGAATAAATTTGGCTGGCTTTTACCGGTATATATTCCGCTGCGAGTAGATTGC\r\n",
      "TCGTTATTAAATCCGTAACATTCCTAATTCTGATTCATACGCTAGACTGCTCTTAGTCATATCTCTGACTTCCCCGAATT\r\n",
      "CGGTGTGAGCAATTGTTCGATGAAACTTTTTATTAGCGAATAAATACATGTAACTACTATAAGATCATTCACAACTTGTG\r\n",
      "ACGTGTAATGCTCTCTCTCTCTCTCTCTCTCTCTCTCTCTCTCTCTCTCTCTCTCTCTCTCTCTCTAAACAATGGGGTGC\r\n",
      "TACATGTATACAAGGCACTAATTATTTTTTATGGGATGATATAAACGTGTACGTATAATGATAAAAGTCAATGCACAGTA\r\n",
      "CAATAACTAATTTATATAAATACAAAAGTTGGGAGTTAATGGGTCTTAGACACGTTCTGAGTAGAAAATGTTCAAATTTT\r\n",
      "CTTCTTCTTTTTTTTTTTTTACATAGCACCAGCCTTGTTTGTATAACAGAGAATTGTGAGTGCTGTATCGCACTTACAAC\r\n",
      "TGTGTGCTGGTCATCAGGAAACTCTCAGTTAAACATTGAAAATGGGGAGTGACATTTTTTTTTTCATTCCAAAACGTGCC\r\n"
     ]
    }
   ],
   "source": [
    "#Based on the region above I downloaded the genome file and looked for the region in scaffold1961\n",
    "!head Ostrea_lurida.faa"
   ]
  },
  {
   "cell_type": "code",
   "execution_count": null,
   "metadata": {
    "collapsed": true
   },
   "outputs": [],
   "source": [
    "#File has 80 bases per line. Want bases from 62,420 to 62,540. 62,480 / 80 = line 781, 62,540 / 80 = line 782"
   ]
  },
  {
   "cell_type": "code",
   "execution_count": 22,
   "metadata": {
    "collapsed": false
   },
   "outputs": [],
   "source": [
    "#Get lines 780 to 784. I chose a wide range beyond the region of interest since I was not successful in getting hits.\n",
    "!sed -n 779,785p Ostrea_lurida.faa > sequence"
   ]
  },
  {
   "cell_type": "code",
   "execution_count": 23,
   "metadata": {
    "collapsed": false
   },
   "outputs": [
    {
     "name": "stdout",
     "output_type": "stream",
     "text": [
      "AAGAGGTAAATGTACATGTAAAACTTCTGTAAGATCTGTACAACAATCATCTGTGAAATAATTCACGGTCGTCATTCACC\r\n",
      "CTGCGTACCTTGTAATTACGGTCATCATGCACAAAAATTCAATTGTTATTTTCGTCGCATTGGGTTACGTTTTTGAAAGA\r\n",
      "GACGTTTTATATCTGCACAAAGCAAAGAAAAAATGTCAGACTCTCAATCCCAGCCTTTTTGTAGAAATAAAATAAGCAAA\r\n",
      "TCGATGAAAATGAATACTGTGGAATCAGCATTGTTCGTGGGGGACCAATGTTTGTGGATTTCGTGAGTCGCCCTTACCCA\r\n",
      "CGAATTTACGTCCCCACGAACATGTTTTATTTTCCTTTTAATCTTTATAAATATTATGTCGTTGGCATTATTTATCAATT\r\n",
      "ACCCACGAAATTACGTCCCCACGAACCAGCAAAAATTTGGTTACCCACGAACATTGGCCCCCACGAATTAAAATGATTTC\r\n",
      "ACAGTATTAGTATTACGGTCATCGGCTTAGAACTACCGTACACAGTGATACTTGGCTATATAATCTATTAAACGAAGCAT\r\n"
     ]
    }
   ],
   "source": [
    "!head sequence"
   ]
  },
  {
   "cell_type": "markdown",
   "metadata": {
    "collapsed": true
   },
   "source": [
    "I still was not able to get any hits on the Acropora digitifera genome:"
   ]
  },
  {
   "cell_type": "code",
   "execution_count": 23,
   "metadata": {
    "collapsed": false
   },
   "outputs": [
    {
     "name": "stdout",
     "output_type": "stream",
     "text": [
      "/bin/sh: -c: line 0: syntax error near unexpected token `https://github.com/jldimond/jldimond-fish546-2016/tree/Macbook_local/images/ScreenShot2016-11-08at5.00.17PM.png?raw=true'\r\n",
      "/bin/sh: -c: line 0: `[hits](https://github.com/jldimond/jldimond-fish546-2016/tree/Macbook_local/images/ScreenShot2016-11-08at5.00.17PM.png?raw=true)'\r\n"
     ]
    }
   ],
   "source": [
    "![hits](https://github.com/jldimond/jldimond-fish546-2016/tree/Macbook_local/images/ScreenShot2016-11-08at5.00.17PM.png?raw=true)"
   ]
  },
  {
   "cell_type": "code",
   "execution_count": null,
   "metadata": {
    "collapsed": true
   },
   "outputs": [],
   "source": []
  }
 ],
 "metadata": {
  "anaconda-cloud": {},
  "kernelspec": {
   "display_name": "Python [Root]",
   "language": "python",
   "name": "Python [Root]"
  },
  "language_info": {
   "codemirror_mode": {
    "name": "ipython",
    "version": 2
   },
   "file_extension": ".py",
   "mimetype": "text/x-python",
   "name": "python",
   "nbconvert_exporter": "python",
   "pygments_lexer": "ipython2",
   "version": "2.7.12"
  }
 },
 "nbformat": 4,
 "nbformat_minor": 0
}
