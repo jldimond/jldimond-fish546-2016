{
 "cells": [
  {
   "cell_type": "markdown",
   "metadata": {},
   "source": [
    "# RADseq data assembly for branching _Porites_ spp."
   ]
  },
  {
   "cell_type": "markdown",
   "metadata": {},
   "source": [
    "This is an assembly of ddRADseq and EpiRADseq data for branching _Porites_ spp. corals from Belize. Data files constitute 100bp paired-end reads on the Illumina HiSeq4000. 96 samples were prepared on a 96 well plate and can be identified by their unique combination of indices and barcodes. The 12 indices were grouped into 12 separate libraries that were submitted for sequencing. They were combined in equimolar ratios on 1 HiSeq4000 lane.\n",
    "\n",
    "Further information on these data can be found here: https://github.com/jldimond/jldimond-fish546-2016/tree/master/data/readme.md"
   ]
  },
  {
   "cell_type": "code",
   "execution_count": 1,
   "metadata": {
    "collapsed": false,
    "scrolled": true
   },
   "outputs": [
    {
     "name": "stdout",
     "output_type": "stream",
     "text": [
      "/Volumes/toaster/jdimond/jldimond-fish546-2016/notebooks\r\n"
     ]
    }
   ],
   "source": [
    "!pwd"
   ]
  },
  {
   "cell_type": "code",
   "execution_count": 34,
   "metadata": {
    "collapsed": false
   },
   "outputs": [
    {
     "name": "stdout",
     "output_type": "stream",
     "text": [
      "/Volumes/toaster/jdimond/jldimond-fish546-2016/data\n"
     ]
    }
   ],
   "source": [
    "cd ../../data"
   ]
  },
  {
   "cell_type": "code",
   "execution_count": 3,
   "metadata": {
    "collapsed": false
   },
   "outputs": [
    {
     "name": "stdout",
     "output_type": "stream",
     "text": [
      "\u001b[31mbarcodes_A.txt\u001b[m\u001b[m \u001b[31mbarcodes_D.txt\u001b[m\u001b[m \u001b[31mbarcodes_G.txt\u001b[m\u001b[m \u001b[31mbarcodes_J.txt\u001b[m\u001b[m readme.md\r\n",
      "\u001b[31mbarcodes_B.txt\u001b[m\u001b[m \u001b[31mbarcodes_E.txt\u001b[m\u001b[m \u001b[31mbarcodes_H.txt\u001b[m\u001b[m \u001b[31mbarcodes_K.txt\u001b[m\u001b[m\r\n",
      "\u001b[31mbarcodes_C.txt\u001b[m\u001b[m \u001b[31mbarcodes_F.txt\u001b[m\u001b[m \u001b[31mbarcodes_I.txt\u001b[m\u001b[m \u001b[31mbarcodes_L.txt\u001b[m\u001b[m\r\n"
     ]
    }
   ],
   "source": [
    "#barcode files for each library are already in the directory\n",
    "!ls "
   ]
  },
  {
   "cell_type": "code",
   "execution_count": null,
   "metadata": {
    "collapsed": true
   },
   "outputs": [],
   "source": [
    "#raw data files must be downloaded (approx. 32GB)\n",
    "!wget -r --no-parent http://owl.fish.washington.edu/nightingales/Porites_spp/"
   ]
  },
  {
   "cell_type": "code",
   "execution_count": 3,
   "metadata": {
    "collapsed": false
   },
   "outputs": [
    {
     "name": "stdout",
     "output_type": "stream",
     "text": [
      "JD001_A_S21_L004_R1_001.fastq.gz     JD001_G_S27_L004_R2_001.fastq.gz\r\n",
      "JD001_A_S21_L004_R2_001.fastq.gz     JD001_H_S28_L004_R1_001.fastq.gz\r\n",
      "JD001_B_S22_L004_R1_001.fastq.gz     JD001_H_S28_L004_R2_001.fastq.gz\r\n",
      "JD001_B_S22_L004_R2_001.fastq.gz     JD001_I_S29_L004_R1_001.fastq.gz\r\n",
      "JD001_C_S23_L004_R1_001.fastq.gz     JD001_I_S29_L004_R2_001.fastq.gz\r\n",
      "JD001_C_S23_L004_R2_001.fastq.gz     JD001_J_S30_L004_R1_001.fastq.gz\r\n",
      "JD001_D_S24_L004_R1_001.fastq.gz     JD001_J_S30_L004_R2_001.fastq.gz\r\n",
      "JD001_D_S24_L004_R2_001.fastq.gz     JD001_K_S31_L004_R1_001.fastq.gz\r\n",
      "JD001_E_S25_L004_R1_001.fastq.gz     JD001_K_S31_L004_R2_001.fastq.gz\r\n",
      "JD001_E_S25_L004_R2_001.fastq.gz     JD001_L_S32_L004_R1_001.fastq.gz\r\n",
      "JD001_F_S26_L004_R1_001.fastq.gz     JD001_L_S32_L004_R2_001.fastq.gz\r\n",
      "JD001_F_S26_L004_R2_001.fastq.gz     Undetermined_S0_L004_R1_001.fastq.gz\r\n",
      "JD001_G_S27_L004_R1_001.fastq.gz     Undetermined_S0_L004_R2_001.fastq.gz\r\n"
     ]
    }
   ],
   "source": [
    "!ls"
   ]
  },
  {
   "cell_type": "code",
   "execution_count": 4,
   "metadata": {
    "collapsed": false
   },
   "outputs": [
    {
     "name": "stdout",
     "output_type": "stream",
     "text": [
      "@K00188:197:HFL2KBBXX:4:1101:1570:1508 1:N:0:NTCACG\r\n",
      "TGCATTGCCGTGGTTTTTCACTTCGCGGCCGTCCAGTCGAGCTGTGGAATGAAATGTCCTGGCAGGCGGGTGATAGCATGCATACTTAATAATACGCGAG\r\n",
      "+\r\n",
      "A-AF<<<---7AAAAFJJF<F-FFA<7-7F-FF<JJJFFJFFJJ-7A7---<7F--<--<-A-FJF---7--F7JJ7AAF-<-FAFJJJFFJJJ<<<-A7\r\n",
      "@K00188:197:HFL2KBBXX:4:1101:2828:1508 1:N:0:NTCACG\r\n",
      "TGCATCGCACTCGAGCTACAGTCGAGCTAGCTTAGTACGGCAGTAGCACGACGTTTGAAACAGGACTAATGTTAGTAAACTGAAATTTTTTAAAGGAGCG\r\n",
      "+\r\n",
      "A<AFFJ--77AA<J<F<FFJJFJAFJJJFFFJFJ<FFFFFFJFJJJJFJAFJ<A<J<FJFJ<---AFAJ<A-JJJ-FJJJ-FJJ7<F-7A7F-FJJF-77\r\n",
      "@K00188:197:HFL2KBBXX:4:1101:3031:1508 1:N:0:NTCACG\r\n",
      "TGCATTGCAGCGCGTTGTCGAACGGCAGGGACATCCACGGGCAAGGTGTGGACTTGCGCTTGACCTTCTCGGGGCGTTAAATGACTCCACAATCGGTAGC\r\n",
      "+\r\n",
      "AAFFF-7<-<77F<JJJFJJAJJJJJ<FFJJJ<<AAFJ<-<<JFFJFJJJAJJ7-FF7<FJJJF-AJFAFJJAJJ7-FFAJJJA7-FAJAJFFJAFFFJJ\r\n",
      "gunzip: error writing to output: Broken pipe\r\n",
      "gunzip: ../Raw_data_JD001/JD001_A_S21_L004_R1_001.fastq.gz: uncompress failed\r\n"
     ]
    }
   ],
   "source": [
    "## a peak at at read 1 file\n",
    "!gunzip -c JD001_A_S21_L004_R1_001.fastq.gz | head -n 12"
   ]
  },
  {
   "cell_type": "code",
   "execution_count": 5,
   "metadata": {
    "collapsed": false,
    "scrolled": true
   },
   "outputs": [
    {
     "name": "stdout",
     "output_type": "stream",
     "text": [
      "@K00188:197:HFL2KBBXX:4:1101:1570:1508 2:N:0:NTCACG\r\n",
      "NGCGGATTTGTTAAGCCTGCGCACGTTTTATAAATTTTACGTACACTTAAGTTTTCGCACATTTTATTAAGTTTGCATGCGTTCTGTTTAGAAGTTTGCA\r\n",
      "+\r\n",
      "#---<77A-FJ-FF7AF7--7FJJJ7-7FFFFJJJ-FFAJFJFJJFJJ<--JA<JJJ<JJJ7<F<F7FF<FFJA7AA-7-7-<7-A--FJJ--FF-----\r\n",
      "@K00188:197:HFL2KBBXX:4:1101:2828:1508 2:N:0:NTCACG\r\n",
      "NCCATTCAAGAATCTGGATTACCTAACATAAAGCGATACCTTAGTTGCTTACTAACATTTAAAACCACCCACCATCACAGTCATTTCCATTCTTTACGAA\r\n",
      "+\r\n",
      "#-<7<-FJJJAAFJ7JAJJ<FJJJFJJJJJJFJJFJFJJJF-FJAFFJFAJJ<JFJJFFAJJAAJJJJFJFJJFFJFJJJ-FF-FAFJFFFF--7-A7FF\r\n",
      "@K00188:197:HFL2KBBXX:4:1101:3031:1508 2:N:0:NTCACG\r\n",
      "NGGACAAATGCGTCTTGGATTTGTTCACCAAAGATTCCCATCATCGCAACATCACCGTGCCCTATTTGACGCAACATTTATTCCCGCCTGGGAAATTCTC\r\n",
      "+\r\n",
      "#7<<FFJA-FJF-F-<7F7-77<FAJ<JJJJJJJJJJJJJJFAJJJJJJJJ-FFJFJ-FJ--AFF-JA<FFFJJJFFJFJJFJJJAF7-A<JAJJ<-7FJ\r\n",
      "@K00188:197:HFL2KBBXX:4:1101:4411:1508 2:N:0:NTCACG\r\n",
      "NGGAAGATAAACCATAGGCTCCGTCTCACAACCCTTGCACACACAGCTGTAAAGTGGTAAAGAGTATGGAACGTAGTCCCCCCGTTGTGGTGGTCGATCT\r\n",
      "+\r\n",
      "#<-<FFJJJJJJJJJJJJJJJJJJJJJJJJJJJJJJJFJJJJJJFJJJJFJJJJAJJFJJJJJJJJJJJJJJJFJJFFJJJJJJ<FJJJJJJJJJJFJJ<\r\n",
      "@K00188:197:HFL2KBBXX:4:1101:4777:1508 2:N:0:NTCACG\r\n",
      "NGCCCACAAAAATACAGCACAAATGAGTTTCAGATGCCTGTGGTTGGACTGCTTTTAGGTTGTACCCGACAATGATACTATACAGATTAGATAATGTTTC\r\n",
      "+\r\n",
      "#77<<FFJJJJJJJJJJJJJJJJJJJFJJJJJJJJJJJJJJJJJJFJJJJFJJJJJJJFJJJJJJJJ<<JJFJFJJFJJJJJJJJJJJJJJJJJJAJJJJ\r\n",
      "@K00188:197:HFL2KBBXX:4:1101:4898:1508 2:N:0:NTCACG\r\n",
      "NGGTCAATTAATGTCGGATCTTTGGAAAGGAACGGACCGCTGGACCGTTTGAGATGATGAACCAAAAGATAAAAAGGGGGTTCTAACGCGTGAACTAATC\r\n",
      "+\r\n",
      "#7<<A--AFJ<7FFFJ<JFJJFJFJJFJJJ<AJJFJJJFJJ7J<AFJFFJFFJJ<FFFFJJJJJFAFFA-FJJFAFFJJJ<JJ<JJJJJJ-AJ7FJFFJF\r\n",
      "@K00188:197:HFL2KBBXX:4:1101:5203:1508 2:N:0:NTCACG\r\n",
      "NGGCGGCTTCTTTACCACGAAAGACTTTGATGTTGAACACGGTCACTACAGATAAGTCTGCATGCTATCGGCTCTCGAGGATCGTAAAAGAAGAGAGCAA\r\n",
      "+\r\n",
      "#--<-AAFAFJFAJF7JFJJJJJJFFJJFJJFFF-JJFJ<A7J-FFFJFJFJFJJFJJJJ7AF-<FAFA--<A7A<<AAFAAF<AJJJJFJJJFFJ7FFF\r\n",
      "@K00188:197:HFL2KBBXX:4:1101:5304:1508 2:N:0:NTCACG\r\n",
      "NGGCTTATTTGGTGTCAGTAAAGGAACGAGTAATATATTTATGTATCCTAAACTAAATTTATGATATCGTTGTGGAAAGTGCCACGAAGAACAAGTAGAA\r\n",
      "gunzip: error writing to output: Broken pipe\r\n",
      "gunzip: ../Raw_data_JD001/JD001_A_S21_L004_R2_001.fastq.gz: uncompress failed\r\n"
     ]
    }
   ],
   "source": [
    "## Now let's look at read 2\n",
    "!gunzip -c JD001_A_S21_L004_R2_001.fastq.gz | head -n 30"
   ]
  },
  {
   "cell_type": "code",
   "execution_count": 6,
   "metadata": {
    "collapsed": false,
    "scrolled": false
   },
   "outputs": [
    {
     "name": "stdout",
     "output_type": "stream",
     "text": [
      " 88358900\r\n"
     ]
    }
   ],
   "source": [
    "!gunzip -c JD001_A_S21_L004_R1_001.fastq.gz | wc -l"
   ]
  },
  {
   "cell_type": "code",
   "execution_count": 7,
   "metadata": {
    "collapsed": false
   },
   "outputs": [
    {
     "name": "stdout",
     "output_type": "stream",
     "text": [
      " 88358900\r\n"
     ]
    }
   ],
   "source": [
    "#Reads 1 and 2 should have identical numbers of records\n",
    "!gunzip -c JD001_A_S21_L004_R2_001.fastq.gz | wc -l"
   ]
  },
  {
   "cell_type": "code",
   "execution_count": 8,
   "metadata": {
    "collapsed": false,
    "scrolled": false
   },
   "outputs": [
    {
     "name": "stdout",
     "output_type": "stream",
     "text": [
      "80_epi\tTGCAT\r\n",
      "80_ddr\tAAGGA\r\n",
      "116_epi\tGCATG\r\n",
      "108_epi\tAACCA\r\n",
      "98_ddr\tCAACC\r\n",
      "82_epi\tTCGAT\r\n",
      "116_ddr\tCGATC\r\n",
      "102_epi\tGGTTG"
     ]
    }
   ],
   "source": [
    "##Barcodes file for library A.\n",
    "!cat barcodes_A.txt"
   ]
  },
  {
   "cell_type": "markdown",
   "metadata": {},
   "source": [
    "# Create a _Symbiodinium_ genome database to filter out symbiont reads"
   ]
  },
  {
   "cell_type": "markdown",
   "metadata": {},
   "source": [
    "The _Symbiodinium minutum_ genome is combined with the _Symbiodinium kawagutii_ genome"
   ]
  },
  {
   "cell_type": "code",
   "execution_count": 39,
   "metadata": {
    "collapsed": false
   },
   "outputs": [],
   "source": [
    "!cat symbB.v1.0.genome.fa Symbiodinium_kawagutii.assembly.935Mb.fa > SymBF_genome.fa"
   ]
  },
  {
   "cell_type": "code",
   "execution_count": 40,
   "metadata": {
    "collapsed": false
   },
   "outputs": [
    {
     "name": "stdout",
     "output_type": "stream",
     "text": [
      ">scaffold5.1|size591573\r\n",
      "TGAAAATCAGCCAGTGATATTGTGAAAATCGGAGTGTGATTTTGGTAAAGTCGGGTGTGATTTTGTGAAAATCAGCCAGTGATTTTGGCAAAGTCGGAGT\r\n",
      "GTGATTTTGGTAAAGTCGGACTGTGATTTTGGTAAAGTCGGAGTATGATTTTGAATAGATCAAACTTTACTAAATACTATACCATAAATCTTGCTACATA\r\n",
      "CATTACCTTATACAATACTTACTATTTTTCTATTTACCTGGGGTTATATTACATAAGCTTAAGGGGTGATGACACAATGGTATGAGACGGGACTGCATTT\r\n",
      "ATTTTATGACAAGGTTGTATGAGACAGGACTGCATCCAATTTTTTTGACAGACAGGACTGCATCCATTTTTATGACAAGATGGCATGAGACAGGACTGCA\r\n",
      "TCCGTTTTTATGACAAGATGGCATGAGACAGGACTGCATCCATTTTTATGGCAAGATTGTATGAGACAGGACTGCNNNNNNNNNNNNNNNNNNNNNNNNN\r\n",
      "NNNNNNNNNNNNNNNNNNNNNNNNNNNNNNNNNNNNNNNNNNNNNNNNNNNNNNNNNNNNNNNNNNNNNNNNNNNNNNNNNNNNNNNNNNNNNNNNNNNN\r\n",
      "NNNNNNNNNNNNNNNNNNNNNNNNNNNNNNNNNNNNNNNNNNNNNNNNNNNNNNNNNNNNNNNNNNNNNNNNNNNNNNNNNNNNNNNNNNNNNNNNNNNN\r\n",
      "NNNNNNNNNNNNNNNNNNNNNNNNNNNNNNNNNNNNNNNNNNNNNNNNNNNNNNNNNNNNNNNNNNNNNNNNNNNNNNNNNNNNNNNNNNNNNNNNNNNN\r\n",
      "NNNNNNNNNNNNNNNNNNNNNNNNNNNNNNNNNACCGGCACTCATCCATTTTTATGACAAGCCATCATAAGACCGGTACTCATCCATTTTTATGACAAGC\r\n"
     ]
    }
   ],
   "source": [
    "!head SymBF_genome.fa"
   ]
  },
  {
   "cell_type": "code",
   "execution_count": 41,
   "metadata": {
    "collapsed": false
   },
   "outputs": [
    {
     "name": "stdout",
     "output_type": "stream",
     "text": [
      "AAGGCAATGAGGGGAGCTATGATAGCTCGATTTTCGGCAGACCAGGCAACAGCCTAGTGT\r\n",
      "ACAATGGTGAAGATTAATGCCAAAAACTCTCCATTTTGGGAACTCCAAACCTCGCTACGC\r\n",
      "AAAGACTCTCGCGTACCAGGTTTTACAGTAGCTGTGGGACTCAATGCATTGAGTGCTGGG\r\n",
      "TTCTGTACAATGTCCCTTTGTGTCGGCGAAGCGAAAAGTGTTTGCAATTTCTTGTTCTCA\r\n",
      "TCGGCCAACCGAGTCCTCAATGACGAGAT\r\n",
      ">C8332012\r\n",
      "GTGGAACTTGGCGGCGTTGTCCCCAGTCGCGTGTTCAATGTTGAACTTTGGCAACGCAGT\r\n",
      "GTCCGAAAACTGAGATGTGGGTTTAAGTTGTGCTGATTGTTTTCGACATGGGAAATGAAA\r\n",
      "TTATTAGTTGAATCGGTTTGATGTTTGCGGGTCATGTTGTTTGGAATTATTGATTAAAAC\r\n",
      "TTGTTTGTCATTTGTTGGAGTTTTGTTGAAC\r\n"
     ]
    }
   ],
   "source": [
    "!tail SymBF_genome.fa"
   ]
  },
  {
   "cell_type": "markdown",
   "metadata": {},
   "source": [
    "# First the data must be demultiplexed"
   ]
  },
  {
   "cell_type": "markdown",
   "metadata": {},
   "source": [
    "## Create an ipyrad params file for each library with the correct path to the barcodes file\n"
   ]
  },
  {
   "cell_type": "code",
   "execution_count": 43,
   "metadata": {
    "collapsed": false
   },
   "outputs": [
    {
     "name": "stdout",
     "output_type": "stream",
     "text": [
      "/Volumes/toaster/jdimond/jldimond-fish546-2016/analyses/ipyrad_analysis\n"
     ]
    }
   ],
   "source": [
    "cd ../analyses/ipyrad_analysis"
   ]
  },
  {
   "cell_type": "code",
   "execution_count": 16,
   "metadata": {
    "collapsed": false
   },
   "outputs": [
    {
     "name": "stdout",
     "output_type": "stream",
     "text": [
      "\r\n",
      "    New file 'params-data1.txt' created in /Users/jd/Documents/Projects/PoritesRADseq/ipyrad_analysis\r\n",
      "\r\n"
     ]
    }
   ],
   "source": [
    "#ipyrad uses a simple text file to hold all the parameters for a given assembly. \n",
    "#Start by creating a new params file using the -n flag, followed by a name for your assembly.\n",
    "#Start with a file for library JD001_A\n",
    "!ipyrad -n data1_A"
   ]
  },
  {
   "cell_type": "markdown",
   "metadata": {},
   "source": [
    "This will create a file in the current directory called params-data1.txt. The params file lists on each line one parameter followed by a ## mark, then the name of the parameter, and then a short description of its purpose. Edit the file in a text editor."
   ]
  },
  {
   "cell_type": "code",
   "execution_count": 14,
   "metadata": {
    "collapsed": false
   },
   "outputs": [
    {
     "name": "stdout",
     "output_type": "stream",
     "text": [
      "------- ipyrad params file (v.0.3.35)-------------------------------------------\r\n",
      "data1                          ## [0] [assembly_name]: Assembly name. Used to name output directories for assembly steps\r\n",
      "/Users/jd/Documents/Projects/PoritesRADseq/ipyrad_analysis                             ## [1] [project_dir]: Project dir (made in curdir if not present)\r\n",
      "/Users/jd/Documents/Projects/PoritesRADseq/Raw_data_JD001/JD001_A*.fastq.gz                               ## [2] [raw_fastq_path]: Location of raw non-demultiplexed fastq files\r\n",
      "/Users/jd/Documents/Projects/PoritesRADseq/ipyrad_analysis/barcodes_A.txt                               ## [3] [barcodes_path]: Location of barcodes file\r\n",
      "                               ## [4] [sorted_fastq_path]: Location of demultiplexed/sorted fastq files\r\n",
      "reference                         ## [5] [assembly_method]: Assembly method (denovo, reference, denovo+reference, denovo-reference)\r\n",
      "                               ## [6] [reference_sequence]: Location of reference sequence file\r\n",
      "pairddrad                            ## [7] [datatype]: Datatype (see docs): rad, gbs, ddrad, etc.\r\n",
      "TGCAG, NGG                        ## [8] [restriction_overhang]: Restriction overhang (cut1,) or (cut1, cut2)\r\n",
      "5                              ## [9] [max_low_qual_bases]: Max low quality base calls (Q<20) in a read\r\n",
      "33                             ## [10] [phred_Qscore_offset]: phred Q score offset (only alternative=64)\r\n",
      "6                              ## [11] [mindepth_statistical]: Min depth for statistical base calling\r\n",
      "6                              ## [12] [mindepth_majrule]: Min depth for majority-rule base calling\r\n",
      "10000                          ## [13] [maxdepth]: Max cluster depth within samples\r\n",
      "0.90                           ## [14] [clust_threshold]: Clustering threshold for de novo assembly\r\n",
      "0                              ## [15] [max_barcode_mismatch]: Max number of allowable mismatches in barcodes\r\n",
      "1                              ## [16] [filter_adapters]: Filter for adapters/primers (1 or 2=stricter)\r\n",
      "35                             ## [17] [filter_min_trim_len]: Min length of reads after adapter trim\r\n",
      "2                              ## [18] [max_alleles_consens]: Max alleles per site in consensus sequences\r\n",
      "4, 4                           ## [19] [max_Ns_consens]: Max N's (uncalled bases) in consensus (R1, R2)\r\n",
      "4, 4                           ## [20] [max_Hs_consens]: Max Hs (heterozygotes) in consensus (R1, R2)\r\n",
      "30                              ## [21] [min_samples_locus]: Min # samples per locus for output\r\n",
      "20, 20                         ## [22] [max_SNPs_locus]: Max # SNPs per locus (R1, R2)\r\n",
      "5, 5                           ## [23] [max_Indels_locus]: Max # of indels per locus (R1, R2)\r\n",
      "0.5                            ## [24] [max_shared_Hs_locus]: Max # heterozygous sites per locus (R1, R2)\r\n",
      "0, 0                           ## [25] [edit_cutsites]: Edit cut-sites (R1, R2) (see docs)\r\n",
      "4, 4, 4, 4                     ## [26] [trim_overhang]: Trim overhang (see docs) (R1>, <R1, R2>, <R2)\r\n",
      "*                              ## [27] [output_formats]: Output formats (see docs)\r\n",
      "                               ## [28] [pop_assign_file]: Path to population assignment file"
     ]
    }
   ],
   "source": [
    "!cat params-data1_A.txt"
   ]
  },
  {
   "cell_type": "markdown",
   "metadata": {},
   "source": [
    "## Run step 1 for each of the 12 JD001 libraries to demultiplex the data"
   ]
  },
  {
   "cell_type": "code",
   "execution_count": 33,
   "metadata": {
    "collapsed": false
   },
   "outputs": [
    {
     "name": "stdout",
     "output_type": "stream",
     "text": [
      "\n",
      " -------------------------------------------------------------\n",
      "  ipyrad [v.0.3.41]\n",
      "  Interactive assembly and analysis of RAD-seq data\n",
      " -------------------------------------------------------------\n",
      "  New Assembly: data1_A\n",
      "  local compute node: [16 cores] on hummingbird.local\n",
      "\n",
      "  Step 1: Demultiplexing fastq data to Samples\n",
      "  [####################] 100%  chunking large files  | 0:10:27 \n",
      "  [####################] 100%  sorting reads         | 0:07:02 \n",
      "  [####################] 100%  writing/compressing   | 2:31:07 \n",
      "\n",
      "  Step 3: Clustering/Mapping reads\n",
      "\n",
      "    Assembly method reference requires that you enter a 'reference_sequence_path'.\n",
      "    \n"
     ]
    }
   ],
   "source": [
    "## -p indicates the params file we wish to use\n",
    "## -s indicates the step to run (in this case 1)\n",
    "!ipyrad -p params-data1_A.txt -s 1"
   ]
  },
  {
   "cell_type": "code",
   "execution_count": 34,
   "metadata": {
    "collapsed": false
   },
   "outputs": [
    {
     "name": "stdout",
     "output_type": "stream",
     "text": [
      "\n",
      " -------------------------------------------------------------\n",
      "  ipyrad [v.0.3.41]\n",
      "  Interactive assembly and analysis of RAD-seq data\n",
      " -------------------------------------------------------------\n",
      "  loading Assembly: data1_B\n",
      "  from saved path: /Volumes/toaster/jdimond/ipyrad_analysis/data1_B.json\n",
      "  New Assembly: data1_B\n",
      "  local compute node: [16 cores] on hummingbird.local\n",
      "\n",
      "  Step 1: Demultiplexing fastq data to Samples\n",
      "  [####################] 100%  chunking large files  | 0:13:02 \n",
      "  [####################] 100%  sorting reads         | 0:09:17 \n",
      "  [####################] 100%  writing/compressing   | 0:43:06 \n",
      "\n",
      "  Step 3: Clustering/Mapping reads\n",
      "\n",
      "    Assembly method reference requires that you enter a 'reference_sequence_path'.\n",
      "    \n"
     ]
    }
   ],
   "source": [
    "## -p indicates the params file we wish to use\n",
    "## -s indicates the step to run (in this case 1)\n",
    "!ipyrad -p params-data1_B.txt -s 1"
   ]
  },
  {
   "cell_type": "code",
   "execution_count": 35,
   "metadata": {
    "collapsed": false
   },
   "outputs": [
    {
     "name": "stdout",
     "output_type": "stream",
     "text": [
      "\n",
      " -------------------------------------------------------------\n",
      "  ipyrad [v.0.3.41]\n",
      "  Interactive assembly and analysis of RAD-seq data\n",
      " -------------------------------------------------------------\n",
      "  New Assembly: data1_C\n",
      "  local compute node: [16 cores] on hummingbird.local\n",
      "\n",
      "  Step 1: Demultiplexing fastq data to Samples\n",
      "  [####################] 100%  chunking large files  | 0:10:34 \n",
      "  [####################] 100%  sorting reads         | 0:07:04 \n",
      "  [####################] 100%  writing/compressing   | 1:10:28 \n",
      "\n",
      "  Step 3: Clustering/Mapping reads\n",
      "\n",
      "    Assembly method reference requires that you enter a 'reference_sequence_path'.\n",
      "    \n"
     ]
    }
   ],
   "source": [
    "## -p indicates the params file we wish to use\n",
    "## -s indicates the step to run (in this case 1)\n",
    "!ipyrad -p params-data1_C.txt -s 1"
   ]
  },
  {
   "cell_type": "code",
   "execution_count": 36,
   "metadata": {
    "collapsed": false
   },
   "outputs": [
    {
     "name": "stdout",
     "output_type": "stream",
     "text": [
      "\n",
      " -------------------------------------------------------------\n",
      "  ipyrad [v.0.3.41]\n",
      "  Interactive assembly and analysis of RAD-seq data\n",
      " -------------------------------------------------------------\n",
      "  New Assembly: data1_D\n",
      "  local compute node: [16 cores] on hummingbird.local\n",
      "\n",
      "  Step 1: Demultiplexing fastq data to Samples\n",
      "  [####################] 100%  chunking large files  | 0:11:03 \n",
      "  [####################] 100%  sorting reads         | 0:07:23 \n",
      "  [####################] 100%  writing/compressing   | 0:47:02 \n",
      "\n",
      "  Step 3: Clustering/Mapping reads\n",
      "\n",
      "    Assembly method reference requires that you enter a 'reference_sequence_path'.\n",
      "    \n"
     ]
    }
   ],
   "source": [
    "## -p indicates the params file we wish to use\n",
    "## -s indicates the step to run (in this case 1)\n",
    "!ipyrad -p params-data1_D.txt -s 1"
   ]
  },
  {
   "cell_type": "code",
   "execution_count": 37,
   "metadata": {
    "collapsed": false
   },
   "outputs": [
    {
     "name": "stdout",
     "output_type": "stream",
     "text": [
      "\n",
      " -------------------------------------------------------------\n",
      "  ipyrad [v.0.3.41]\n",
      "  Interactive assembly and analysis of RAD-seq data\n",
      " -------------------------------------------------------------\n",
      "  New Assembly: data1_E\n",
      "  local compute node: [16 cores] on hummingbird.local\n",
      "\n",
      "  Step 1: Demultiplexing fastq data to Samples\n",
      "  [####################] 100%  chunking large files  | 0:11:14 \n",
      "  [####################] 100%  sorting reads         | 0:07:06 \n",
      "  [####################] 100%  writing/compressing   | 0:39:23 \n",
      "\n",
      "  Step 3: Clustering/Mapping reads\n",
      "\n",
      "    Assembly method reference requires that you enter a 'reference_sequence_path'.\n",
      "    \n"
     ]
    }
   ],
   "source": [
    "## -p indicates the params file we wish to use\n",
    "## -s indicates the step to run (in this case 1)\n",
    "!ipyrad -p params-data1_E.txt -s 1"
   ]
  },
  {
   "cell_type": "code",
   "execution_count": 38,
   "metadata": {
    "collapsed": false
   },
   "outputs": [
    {
     "name": "stdout",
     "output_type": "stream",
     "text": [
      "\n",
      " -------------------------------------------------------------\n",
      "  ipyrad [v.0.3.41]\n",
      "  Interactive assembly and analysis of RAD-seq data\n",
      " -------------------------------------------------------------\n",
      "  New Assembly: data1_F\n",
      "  local compute node: [16 cores] on hummingbird.local\n",
      "\n",
      "  Step 1: Demultiplexing fastq data to Samples\n",
      "  [####################] 100%  chunking large files  | 0:11:30 \n",
      "  [####################] 100%  sorting reads         | 0:08:00 \n",
      "  [####################] 100%  writing/compressing   | 0:57:44 \n",
      "\n",
      "  Step 3: Clustering/Mapping reads\n",
      "\n",
      "    Assembly method reference requires that you enter a 'reference_sequence_path'.\n",
      "    \n"
     ]
    }
   ],
   "source": [
    "## -p indicates the params file we wish to use\n",
    "## -s indicates the step to run (in this case 1)\n",
    "!ipyrad -p params-data1_F.txt -s 1"
   ]
  },
  {
   "cell_type": "code",
   "execution_count": 39,
   "metadata": {
    "collapsed": false
   },
   "outputs": [
    {
     "name": "stdout",
     "output_type": "stream",
     "text": [
      "\n",
      " -------------------------------------------------------------\n",
      "  ipyrad [v.0.3.41]\n",
      "  Interactive assembly and analysis of RAD-seq data\n",
      " -------------------------------------------------------------\n",
      "  New Assembly: data1_G\n",
      "  local compute node: [16 cores] on hummingbird.local\n",
      "\n",
      "  Step 1: Demultiplexing fastq data to Samples\n",
      "  [####################] 100%  chunking large files  | 0:10:29 \n",
      "  [####################] 100%  sorting reads         | 0:07:16 \n",
      "  [####################] 100%  writing/compressing   | 1:10:25 \n",
      "\n",
      "  Step 3: Clustering/Mapping reads\n",
      "\n",
      "    Assembly method reference requires that you enter a 'reference_sequence_path'.\n",
      "    \n"
     ]
    }
   ],
   "source": [
    "## -p indicates the params file we wish to use\n",
    "## -s indicates the step to run (in this case 1)\n",
    "!ipyrad -p params-data1_G.txt -s 1"
   ]
  },
  {
   "cell_type": "code",
   "execution_count": 40,
   "metadata": {
    "collapsed": false
   },
   "outputs": [
    {
     "name": "stdout",
     "output_type": "stream",
     "text": [
      "\n",
      " -------------------------------------------------------------\n",
      "  ipyrad [v.0.3.41]\n",
      "  Interactive assembly and analysis of RAD-seq data\n",
      " -------------------------------------------------------------\n",
      "  New Assembly: data1_H\n",
      "  local compute node: [16 cores] on hummingbird.local\n",
      "\n",
      "  Step 1: Demultiplexing fastq data to Samples\n",
      "  [####################] 100%  chunking large files  | 0:10:24 \n",
      "  [####################] 100%  sorting reads         | 0:06:55 \n",
      "  [####################] 100%  writing/compressing   | 0:45:20 \n",
      "\n",
      "  Step 3: Clustering/Mapping reads\n",
      "\n",
      "    Assembly method reference requires that you enter a 'reference_sequence_path'.\n",
      "    \n"
     ]
    }
   ],
   "source": [
    "## -p indicates the params file we wish to use\n",
    "## -s indicates the step to run (in this case 1)\n",
    "!ipyrad -p params-data1_H.txt -s 1"
   ]
  },
  {
   "cell_type": "code",
   "execution_count": 41,
   "metadata": {
    "collapsed": false
   },
   "outputs": [
    {
     "name": "stdout",
     "output_type": "stream",
     "text": [
      "\n",
      " -------------------------------------------------------------\n",
      "  ipyrad [v.0.3.41]\n",
      "  Interactive assembly and analysis of RAD-seq data\n",
      " -------------------------------------------------------------\n",
      "  New Assembly: data1_I\n",
      "  local compute node: [16 cores] on hummingbird.local\n",
      "\n",
      "  Step 1: Demultiplexing fastq data to Samples\n",
      "  [####################] 100%  chunking large files  | 0:09:42 \n",
      "  [####################] 100%  sorting reads         | 0:05:46 \n",
      "  [####################] 100%  writing/compressing   | 0:54:53 \n",
      "\n",
      "  Step 3: Clustering/Mapping reads\n",
      "\n",
      "    Assembly method reference requires that you enter a 'reference_sequence_path'.\n",
      "    \n"
     ]
    }
   ],
   "source": [
    "## -p indicates the params file we wish to use\n",
    "## -s indicates the step to run (in this case 1)\n",
    "!ipyrad -p params-data1_I.txt -s 1"
   ]
  },
  {
   "cell_type": "code",
   "execution_count": 42,
   "metadata": {
    "collapsed": false
   },
   "outputs": [
    {
     "name": "stdout",
     "output_type": "stream",
     "text": [
      "\n",
      " -------------------------------------------------------------\n",
      "  ipyrad [v.0.3.41]\n",
      "  Interactive assembly and analysis of RAD-seq data\n",
      " -------------------------------------------------------------\n",
      "  New Assembly: data1_J\n",
      "  local compute node: [16 cores] on hummingbird.local\n",
      "\n",
      "  Step 1: Demultiplexing fastq data to Samples\n",
      "  [####################] 100%  chunking large files  | 0:11:10 \n",
      "  [####################] 100%  sorting reads         | 0:06:54 \n",
      "  [####################] 100%  writing/compressing   | 1:10:59 \n",
      "\n",
      "  Step 3: Clustering/Mapping reads\n",
      "\n",
      "    Assembly method reference requires that you enter a 'reference_sequence_path'.\n",
      "    \n"
     ]
    }
   ],
   "source": [
    "## -p indicates the params file we wish to use\n",
    "## -s indicates the step to run (in this case 1)\n",
    "!ipyrad -p params-data1_J.txt -s 1"
   ]
  },
  {
   "cell_type": "code",
   "execution_count": 43,
   "metadata": {
    "collapsed": false
   },
   "outputs": [
    {
     "name": "stdout",
     "output_type": "stream",
     "text": [
      "\n",
      " -------------------------------------------------------------\n",
      "  ipyrad [v.0.3.41]\n",
      "  Interactive assembly and analysis of RAD-seq data\n",
      " -------------------------------------------------------------\n",
      "  New Assembly: data1_K\n",
      "  local compute node: [16 cores] on hummingbird.local\n",
      "\n",
      "  Step 1: Demultiplexing fastq data to Samples\n",
      "  [####################] 100%  chunking large files  | 0:09:49 \n",
      "  [####################] 100%  sorting reads         | 0:06:26 \n",
      "  [####################] 100%  writing/compressing   | 0:54:45 \n",
      "\n",
      "  Step 3: Clustering/Mapping reads\n",
      "\n",
      "    Assembly method reference requires that you enter a 'reference_sequence_path'.\n",
      "    \n"
     ]
    }
   ],
   "source": [
    "## -p indicates the params file we wish to use\n",
    "## -s indicates the step to run (in this case 1)\n",
    "!ipyrad -p params-data1_K.txt -s 1"
   ]
  },
  {
   "cell_type": "code",
   "execution_count": 44,
   "metadata": {
    "collapsed": false
   },
   "outputs": [
    {
     "name": "stdout",
     "output_type": "stream",
     "text": [
      "\n",
      " -------------------------------------------------------------\n",
      "  ipyrad [v.0.3.41]\n",
      "  Interactive assembly and analysis of RAD-seq data\n",
      " -------------------------------------------------------------\n",
      "  New Assembly: data1_L\n",
      "  local compute node: [16 cores] on hummingbird.local\n",
      "\n",
      "  Step 1: Demultiplexing fastq data to Samples\n",
      "  [####################] 100%  chunking large files  | 0:09:30 \n",
      "  [####################] 100%  sorting reads         | 0:06:01 \n",
      "  [####################] 100%  writing/compressing   | 1:07:30 \n",
      "\n",
      "  Step 3: Clustering/Mapping reads\n",
      "\n",
      "    Assembly method reference requires that you enter a 'reference_sequence_path'.\n",
      "    \n"
     ]
    }
   ],
   "source": [
    "## -p indicates the params file we wish to use\n",
    "## -s indicates the step to run (in this case 1)\n",
    "!ipyrad -p params-data1_L.txt -s 1"
   ]
  },
  {
   "cell_type": "markdown",
   "metadata": {},
   "source": [
    "## Now combine demultiplexed sample fastqs into a single directory and run step 2 to filter the reads "
   ]
  },
  {
   "cell_type": "markdown",
   "metadata": {},
   "source": [
    "For the entire analysis to work properly it needs it to start with all samples in a single directory. FASTQs were manually relocated to ./jldimond-fish546-2016/analyses/ipyrad_analysis/data1_all_fastqs. Edit a params file with the path to the compiled fastqs (under sorted fastq path), name it \"params-data1_all.txt\", and run step 2 (must run 1 and 2)."
   ]
  },
  {
   "cell_type": "code",
   "execution_count": 44,
   "metadata": {
    "collapsed": false
   },
   "outputs": [
    {
     "name": "stdout",
     "output_type": "stream",
     "text": [
      "------- ipyrad params file (v.0.3.35)-------------------------------------------\r\n",
      "data1_all                          ## [0] [assembly_name]: Assembly name. Used to name output directories for assembly steps\r\n",
      "/Volumes/toaster/jdimond/jldimond-fish546-2016/analyses/ipyrad_analysis                            ## [1] [project_dir]: Project dir (made in curdir if not present)\r\n",
      "                              ## [2] [raw_fastq_path]: Location of raw non-demultiplexed fastq files\r\n",
      "                               ## [3] [barcodes_path]: Location of barcodes file\r\n",
      "/Volumes/toaster/jdimond/jldimond-fish546-2016/analyses/ipyrad_analysis/data1_all_fastqs/*.fastq.gz                               ## [4] [sorted_fastq_path]: Location of demultiplexed/sorted fastq files\r\n",
      "denovo-reference                         ## [5] [assembly_method]: Assembly method (denovo, reference, denovo+reference, denovo-reference)\r\n",
      "/Volumes/toaster/jdimond/jldimond-fish546-2016/data/SymBF_genome.fa                               ## [6] [reference_sequence]: Location of reference sequence file\r\n",
      "pairddrad                            ## [7] [datatype]: Datatype (see docs): rad, gbs, ddrad, etc.\r\n",
      "TGCAG, NGG                        ## [8] [restriction_overhang]: Restriction overhang (cut1,) or (cut1, cut2)\r\n",
      "5                              ## [9] [max_low_qual_bases]: Max low quality base calls (Q<20) in a read\r\n",
      "33                             ## [10] [phred_Qscore_offset]: phred Q score offset (only alternative=64)\r\n",
      "6                              ## [11] [mindepth_statistical]: Min depth for statistical base calling\r\n",
      "6                              ## [12] [mindepth_majrule]: Min depth for majority-rule base calling\r\n",
      "10000                          ## [13] [maxdepth]: Max cluster depth within samples\r\n",
      "0.85                           ## [14] [clust_threshold]: Clustering threshold for de novo assembly\r\n",
      "0                              ## [15] [max_barcode_mismatch]: Max number of allowable mismatches in barcodes\r\n",
      "1                              ## [16] [filter_adapters]: Filter for adapters/primers (1 or 2=stricter)\r\n",
      "35                             ## [17] [filter_min_trim_len]: Min length of reads after adapter trim\r\n",
      "2                              ## [18] [max_alleles_consens]: Max alleles per site in consensus sequences\r\n",
      "5, 5                           ## [19] [max_Ns_consens]: Max N's (uncalled bases) in consensus (R1, R2)\r\n",
      "8, 8                           ## [20] [max_Hs_consens]: Max Hs (heterozygotes) in consensus (R1, R2)\r\n",
      "30                              ## [21] [min_samples_locus]: Min # samples per locus for output\r\n",
      "20, 20                         ## [22] [max_SNPs_locus]: Max # SNPs per locus (R1, R2)\r\n",
      "8, 8                           ## [23] [max_Indels_locus]: Max # of indels per locus (R1, R2)\r\n",
      "0.5                            ## [24] [max_shared_Hs_locus]: Max # heterozygous sites per locus (R1, R2)\r\n",
      "0, 0                           ## [25] [edit_cutsites]: Edit cut-sites (R1, R2) (see docs)\r\n",
      "4, 4, 4, 4                     ## [26] [trim_overhang]: Trim overhang (see docs) (R1>, <R1, R2>, <R2)\r\n",
      "*                              ## [27] [output_formats]: Output formats (see docs)\r\n",
      "                               ## [28] [pop_assign_file]: Path to population assignment file"
     ]
    }
   ],
   "source": [
    "!cat params-data1_all.txt"
   ]
  },
  {
   "cell_type": "code",
   "execution_count": 45,
   "metadata": {
    "collapsed": false
   },
   "outputs": [
    {
     "name": "stdout",
     "output_type": "stream",
     "text": [
      "\n",
      " -------------------------------------------------------------\n",
      "  ipyrad [v.0.3.41]\n",
      "  Interactive assembly and analysis of RAD-seq data\n",
      " -------------------------------------------------------------\n",
      "  New Assembly: data1_all\n",
      "  local compute node: [16 cores] on hummingbird.local\n",
      "\n",
      "  Step 1: Linking sorted fastq data to Samples\n",
      "    Linking to demultiplexed fastq files in: /Volumes/toaster/jdimond/jldimond-fish546-2016/analyses/ipyrad_analysis/data1_all_fastqs/*.fastq.gz\n",
      "    96 new Samples created in 'data1_all'.\n",
      "    192 fastq files linked to 96 new Samples.\n",
      "\n",
      "  Step 2: Filtering reads \n",
      "  [####################] 100%  processing reads      | 12:50:58 \n",
      "\n"
     ]
    }
   ],
   "source": [
    "!ipyrad -p params-data1_all.txt -s 12"
   ]
  },
  {
   "cell_type": "markdown",
   "metadata": {},
   "source": [
    "## Create a branch that will only analyze the branching _Porites_ ddRAD samples"
   ]
  },
  {
   "cell_type": "markdown",
   "metadata": {},
   "source": [
    "Next, there are samples of _Porites astreoides_ that will not be included in this analysis, plus a few that must be excluded because they were compromised during library prep. These will be excluded from further steps by subsetting the data and creating a branch that will only use the samples of interest. This will create a new params file we will call data2."
   ]
  },
  {
   "cell_type": "code",
   "execution_count": 46,
   "metadata": {
    "collapsed": false
   },
   "outputs": [
    {
     "name": "stdout",
     "output_type": "stream",
     "text": [
      "101_ddr\r\n",
      "102_epi\r\n",
      "103_ddr\r\n",
      "103_epi\r\n",
      "104_ddr\r\n",
      "104_epi\r\n",
      "105_ddr\r\n",
      "105_epi\r\n",
      "106_ddr\r\n",
      "106_epi\r\n",
      "107_ddr\r\n",
      "107_epi\r\n",
      "108_ddr\r\n",
      "108_epi\r\n",
      "109_ddr\r\n",
      "109_epi\r\n",
      "110_ddr\r\n",
      "110_epi\r\n",
      "111_ddr\r\n",
      "111_epi\r\n",
      "112_ddr\r\n",
      "112_epi\r\n",
      "113_epi\r\n",
      "114_ddr\r\n",
      "114_epi\r\n",
      "115_ddr\r\n",
      "115_epi\r\n",
      "116_ddr\r\n",
      "116_epi\r\n",
      "117_ddr\r\n",
      "117_epi\r\n",
      "118_ddr\r\n",
      "118_epi\r\n",
      "120_epi\r\n",
      "121_ddr\r\n",
      "121_epi\r\n",
      "122_ddr\r\n",
      "122_epi\r\n",
      "123_ddr\r\n",
      "123_epi\r\n",
      "124_ddr\r\n",
      "124_epi\r\n",
      "125_ddr\r\n",
      "125_epi\r\n",
      "126_ddr\r\n",
      "126_epi\r\n",
      "127_ddr\r\n",
      "127_epi\r\n",
      "128_ddr\r\n",
      "128_epi\r\n",
      "129_ddr\r\n",
      "129_epi\r\n",
      "130_ddr\r\n",
      "130_epi\r\n",
      "131_ddr\r\n",
      "131_epi"
     ]
    }
   ],
   "source": [
    "#text file with the samples we will be running\n",
    "!cat samples.txt"
   ]
  },
  {
   "cell_type": "code",
   "execution_count": 4,
   "metadata": {
    "collapsed": false
   },
   "outputs": [
    {
     "name": "stdout",
     "output_type": "stream",
     "text": [
      "/Volumes/toaster/jdimond/jldimond-fish546-2016/analyses/ipyrad_analysis\n"
     ]
    }
   ],
   "source": [
    "cd /Volumes/toaster/jdimond/jldimond-fish546-2016/analyses/ipyrad_analysis"
   ]
  },
  {
   "cell_type": "code",
   "execution_count": 2,
   "metadata": {
    "collapsed": false
   },
   "outputs": [
    {
     "name": "stdout",
     "output_type": "stream",
     "text": [
      "\r\n",
      "  No params file found\r\n"
     ]
    }
   ],
   "source": [
    "## Branch subset of samples by passing in a file with sample names. New assembly branch called data2.\n",
    "!ipyrad -p params-data1_all.txt -b data2 samples.txt"
   ]
  },
  {
   "cell_type": "code",
   "execution_count": null,
   "metadata": {
    "collapsed": false
   },
   "outputs": [
    {
     "name": "stdout",
     "output_type": "stream",
     "text": [
      "\n",
      " -------------------------------------------------------------\n",
      "  ipyrad [v.0.3.41]\n",
      "  Interactive assembly and analysis of RAD-seq data\n",
      " -------------------------------------------------------------\n",
      "  loading Assembly: data2\n",
      "  from saved path: /Volumes/toaster/jdimond/jldimond-fish546-2016/analyses/ipyrad_analysis/data2.json\n",
      "  local compute node: [16 cores] on hummingbird.local\n",
      "\n",
      "  Step 3: Clustering/Mapping reads\n",
      "    Force reindexing of reference sequence\n",
      "    *************************************************************\n",
      "    Indexing reference sequence. \n",
      "    This only needs to be done once, and takes just a few minutes\n",
      "    ************************************************************* \n",
      "    Done indexing reference sequence\n",
      "  [################### ]  98%  dereplicating         | 7:01:01 "
     ]
    }
   ],
   "source": [
    "!ipyrad -p params-data2.txt -f -s 34567"
   ]
  },
  {
   "cell_type": "code",
   "execution_count": null,
   "metadata": {
    "collapsed": true
   },
   "outputs": [],
   "source": []
  }
 ],
 "metadata": {
  "anaconda-cloud": {},
  "kernelspec": {
   "display_name": "Python [conda root]",
   "language": "python",
   "name": "conda-root-py"
  },
  "language_info": {
   "codemirror_mode": {
    "name": "ipython",
    "version": 2
   },
   "file_extension": ".py",
   "mimetype": "text/x-python",
   "name": "python",
   "nbconvert_exporter": "python",
   "pygments_lexer": "ipython2",
   "version": "2.7.12"
  }
 },
 "nbformat": 4,
 "nbformat_minor": 0
}
