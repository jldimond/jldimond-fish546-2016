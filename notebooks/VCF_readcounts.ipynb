{
 "cells": [
  {
   "cell_type": "markdown",
   "metadata": {},
   "source": [
    "# Extract read counts from .vcf file"
   ]
  },
  {
   "cell_type": "markdown",
   "metadata": {},
   "source": [
    "The following script uses [SnpSift software](http://snpeff.sourceforge.net/download.html) to extract read count information from the .vcf file output from ipyrad. The read counts are in the form of \"Base Counts (CATG)\". This information is used in the analysis of the EpiRADseq data. "
   ]
  },
  {
   "cell_type": "code",
   "execution_count": 3,
   "metadata": {
    "collapsed": false
   },
   "outputs": [
    {
     "name": "stdout",
     "output_type": "stream",
     "text": [
      "/Users/jd/Documents/Projects/PoritesRADseq/jldimond-fish546-2016/analyses/ipyrad_analysis/data3_outfiles\n"
     ]
    }
   ],
   "source": [
    "cd ../analyses/ipyrad_analysis/data3_outfiles/"
   ]
  },
  {
   "cell_type": "code",
   "execution_count": 4,
   "metadata": {
    "collapsed": false
   },
   "outputs": [
    {
     "name": "stdout",
     "output_type": "stream",
     "text": [
      "##fileformat=VCFv4.0\r\n",
      "##fileDate=2016/10/27\r\n",
      "##source=ipyrad_v.0.3.41\r\n",
      "##reference=SymBF_genome.fa\r\n",
      "##phasing=unphased\r\n",
      "##INFO=<ID=NS,Number=1,Type=Integer,Description=\"Number of Samples With Data\">\r\n",
      "##INFO=<ID=DP,Number=1,Type=Integer,Description=\"Total Depth\">\r\n",
      "##FORMAT=<ID=GT,Number=1,Type=String,Description=\"Genotype\">\r\n",
      "##FORMAT=<ID=CATG,Number=1,Type=String,Description=\"Base Counts (CATG)\">\r\n",
      "#CHROM\tPOS\tID\tREF\tALT\tQUAL\tFILTER\tINFO\tFORMAT\t101_ddr\t102_epi\t103_ddr\t103_epi\t104_ddr\t104_epi\t105_ddr\t105_epi\t106_ddr\t106_epi\t107_ddr\t107_epi\t108_ddr\t108_epi\t109_ddr\t109_epi\t110_ddr\t110_epi\t111_ddr\t111_epi\t112_ddr\t112_epi\t113_epi\t114_ddr\t114_epi\t115_ddr\t115_epi\t116_ddr\t116_epi\t117_ddr\t117_epi\t118_ddr\t118_epi\t120_epi\t121_ddr\t121_epi\t122_ddr\t122_epi\t123_ddr\t123_epi\t124_ddr\t124_epi\t125_ddr\t125_epi\t126_ddr\t126_epi\t127_ddr\t127_epi\t128_ddr\t128_epi\t129_ddr\t129_epi\t130_ddr\t130_epi\t131_ddr\t131_epi\r\n"
     ]
    }
   ],
   "source": [
    "!head data3.vcf"
   ]
  },
  {
   "cell_type": "code",
   "execution_count": 6,
   "metadata": {
    "collapsed": false
   },
   "outputs": [],
   "source": [
    "# Call on SnpSift to extract the CHROM, POS, DP, and \"GEN[*].CATG\" fields. CHROM refers to the ID of each locus, and\n",
    "# POS is the position along each locus. DP is the total read depth across all samples. GEN[*].CATG shows the read depth\n",
    "# for each samples at each POS of each CHROM.\n",
    "!java -jar /Users/jd/snpEff/SnpSift.jar extractFields data3.vcf CHROM POS DP \"GEN[*].CATG\" > data3.txt"
   ]
  },
  {
   "cell_type": "code",
   "execution_count": 7,
   "metadata": {
    "collapsed": false
   },
   "outputs": [
    {
     "name": "stdout",
     "output_type": "stream",
     "text": [
      "#CHROM\tPOS\tDP\tGEN[*].CATG\r\n",
      "36\t0\t2769\t0,50,0,0\t0,0,0,0\t0,103,0,0\t0,109,0,0\t0,169,0,0\t0,65,0,0\t0,88,0,0\t0,54,0,0\t0,115,0,0\t0,146,0,0\t0,33,0,0\t0,17,0,0\t0,45,0,0\t0,34,0,0\t0,48,0,0\t0,47,0,0\t0,111,0,0\t0,35,0,0\t0,43,0,0\t0,18,0,0\t0,6,0,0\t0,12,0,0\t0,0,0,0\t0,34,0,0\t0,80,0,0\t0,6,0,0\t0,28,0,0\t0,34,0,0\t0,22,0,0\t0,26,0,0\t0,44,0,0\t0,0,0,0\t0,0,0,0\t0,0,0,0\t0,31,0,0\t0,18,0,0\t1,170,0,0\t0,130,0,0\t0,0,0,0\t0,0,0,0\t0,82,0,0\t0,52,0,0\t0,55,0,0\t0,147,0,0\t0,20,0,0\t0,48,0,0\t0,43,0,0\t0,92,0,0\t0,0,0,0\t0,0,0,0\t0,57,0,0\t0,125,0,0\t0,0,0,0\t0,0,0,0\t0,41,0,0\t0,35,0,0\r\n",
      "36\t1\t2761\t50,0,0,0\t0,0,0,0\t102,0,0,0\t110,0,0,0\t169,0,0,0\t65,0,0,0\t88,0,0,0\t53,0,0,0\t114,0,0,0\t145,0,0,0\t33,0,0,0\t17,0,0,0\t45,0,0,0\t34,0,0,0\t49,0,0,0\t47,0,0,0\t111,0,0,0\t35,0,0,0\t43,0,0,0\t18,0,0,0\t6,0,0,0\t12,0,0,0\t0,0,0,0\t34,0,0,0\t80,0,0,0\t6,0,0,0\t28,0,0,0\t34,0,0,0\t22,0,0,0\t26,0,0,0\t44,0,0,0\t0,0,0,0\t0,0,0,0\t0,0,0,0\t30,0,0,0\t18,0,0,0\t171,0,0,0\t129,0,0,0\t0,0,0,0\t0,0,0,0\t82,0,0,0\t52,0,0,0\t55,0,0,0\t145,0,0,0\t20,0,0,0\t48,0,0,0\t42,0,0,0\t91,0,0,0\t0,0,0,0\t0,0,0,0\t57,0,0,0\t125,0,0,0\t0,0,0,0\t0,0,0,0\t41,0,0,0\t35,0,0,0\r\n",
      "36\t2\t2771\t0,0,50,0\t0,0,0,0\t0,0,103,0\t0,0,110,0\t0,0,169,0\t0,0,65,0\t0,0,88,0\t0,0,54,0\t0,0,115,0\t0,0,146,0\t0,0,33,0\t0,0,17,0\t0,0,45,0\t0,0,34,0\t0,0,49,0\t0,0,47,0\t0,0,111,0\t0,0,35,0\t0,0,43,0\t0,0,18,0\t0,0,6,0\t0,0,12,0\t0,0,0,0\t0,0,34,0\t0,0,80,0\t0,0,6,0\t0,0,28,0\t0,0,34,0\t0,0,22,0\t0,0,26,0\t0,0,44,0\t0,0,0,0\t0,0,0,0\t0,0,0,0\t0,0,31,0\t0,0,18,0\t0,0,171,0\t0,0,130,0\t0,0,0,0\t0,0,0,0\t0,0,82,0\t0,0,52,0\t0,0,55,0\t0,0,147,0\t0,0,20,0\t0,0,48,0\t0,0,43,0\t0,0,92,0\t0,0,0,0\t0,0,0,0\t0,0,57,0\t0,0,125,0\t0,0,0,0\t0,0,0,0\t0,0,41,0\t0,0,35,0\r\n",
      "36\t3\t2769\t0,50,0,0\t0,0,0,0\t0,103,0,0\t0,110,0,0\t0,169,0,0\t0,65,0,0\t0,88,0,0\t0,54,0,0\t0,115,0,0\t0,146,0,0\t0,33,0,0\t0,17,0,0\t0,45,0,0\t0,34,0,0\t0,49,0,0\t0,47,0,0\t0,111,0,0\t0,35,0,0\t0,43,0,0\t0,18,0,0\t0,6,0,0\t0,12,0,0\t0,0,0,0\t0,34,0,0\t0,80,0,0\t0,6,0,0\t0,28,0,0\t0,34,0,0\t0,22,0,0\t0,26,0,0\t0,44,0,0\t0,0,0,0\t0,0,0,0\t0,0,0,0\t0,31,0,0\t0,18,0,0\t0,171,0,0\t0,130,0,0\t0,0,0,0\t0,0,0,0\t0,82,0,0\t0,52,0,0\t0,54,0,0\t0,146,0,0\t0,20,0,0\t0,48,0,0\t0,43,0,0\t0,92,0,0\t0,0,0,0\t0,0,0,0\t0,57,0,0\t0,125,0,0\t0,0,0,0\t0,0,0,0\t0,41,0,0\t0,35,0,0\r\n",
      "36\t4\t2770\t0,50,0,0\t0,0,0,0\t0,103,0,0\t0,110,0,0\t0,169,0,0\t0,65,0,0\t0,88,0,0\t0,54,0,0\t0,115,0,0\t0,146,0,0\t0,33,0,0\t0,17,0,0\t0,45,0,0\t0,34,0,0\t0,49,0,0\t0,47,0,0\t0,111,0,0\t0,35,0,0\t0,43,0,0\t0,18,0,0\t0,6,0,0\t0,12,0,0\t0,0,0,0\t0,34,0,0\t0,80,0,0\t0,6,0,0\t0,28,0,0\t0,34,0,0\t0,22,0,0\t0,26,0,0\t0,44,0,0\t0,0,0,0\t0,0,0,0\t0,0,0,0\t0,31,0,0\t0,18,0,0\t0,171,0,0\t0,130,0,0\t0,0,0,0\t0,0,0,0\t0,82,0,0\t0,52,0,0\t0,55,0,0\t0,147,0,0\t0,20,0,0\t0,48,0,0\t0,43,0,0\t0,92,0,0\t0,0,0,0\t0,0,0,0\t0,57,0,0\t0,125,0,0\t0,0,0,0\t0,0,0,0\t0,40,0,0\t0,35,0,0\r\n",
      "36\t5\t2771\t0,0,50,0\t0,0,0,0\t0,0,103,0\t0,0,110,0\t0,0,169,0\t0,0,65,0\t0,0,88,0\t0,0,54,0\t0,0,115,0\t0,0,146,0\t0,0,33,0\t0,0,17,0\t0,0,45,0\t0,0,34,0\t0,0,49,0\t0,0,47,0\t0,0,111,0\t0,0,35,0\t0,0,43,0\t0,0,18,0\t0,0,6,0\t0,0,12,0\t0,0,0,0\t0,0,34,0\t0,0,80,0\t0,0,6,0\t0,0,28,0\t0,0,34,0\t0,0,22,0\t0,0,26,0\t0,0,44,0\t0,0,0,0\t0,0,0,0\t0,0,0,0\t0,0,31,0\t0,0,18,0\t0,0,171,0\t0,0,130,0\t0,0,0,0\t0,0,0,0\t0,0,82,0\t0,0,52,0\t0,0,55,0\t0,0,147,0\t0,0,20,0\t0,0,48,0\t0,0,43,0\t0,0,92,0\t0,0,0,0\t0,0,0,0\t0,0,57,0\t0,0,125,0\t0,0,0,0\t0,0,0,0\t0,0,41,0\t0,0,35,0\r\n",
      "36\t6\t2771\t0,50,0,0\t0,0,0,0\t0,103,0,0\t0,110,0,0\t0,169,0,0\t0,65,0,0\t0,88,0,0\t0,54,0,0\t0,115,0,0\t0,146,0,0\t0,33,0,0\t0,17,0,0\t0,45,0,0\t0,34,0,0\t0,49,0,0\t0,47,0,0\t0,111,0,0\t0,35,0,0\t0,43,0,0\t0,18,0,0\t0,6,0,0\t0,12,0,0\t0,0,0,0\t0,34,0,0\t0,80,0,0\t0,6,0,0\t0,28,0,0\t0,34,0,0\t0,22,0,0\t0,26,0,0\t0,44,0,0\t0,0,0,0\t0,0,0,0\t0,0,0,0\t0,31,0,0\t0,18,0,0\t0,171,0,0\t0,130,0,0\t0,0,0,0\t0,0,0,0\t0,82,0,0\t0,52,0,0\t0,55,0,0\t0,147,0,0\t0,20,0,0\t0,48,0,0\t0,43,0,0\t0,92,0,0\t0,0,0,0\t0,0,0,0\t0,57,0,0\t0,125,0,0\t0,0,0,0\t0,0,0,0\t0,41,0,0\t0,35,0,0\r\n",
      "36\t7\t2771\t0,0,50,0\t0,0,0,0\t0,0,103,0\t0,0,110,0\t0,0,169,0\t0,0,65,0\t0,0,88,0\t0,0,54,0\t0,0,115,0\t0,0,146,0\t0,0,33,0\t0,0,17,0\t0,0,45,0\t0,0,34,0\t0,0,49,0\t0,0,47,0\t0,0,111,0\t0,0,35,0\t0,0,43,0\t0,0,18,0\t0,0,6,0\t0,0,12,0\t0,0,0,0\t0,0,34,0\t0,0,80,0\t0,0,6,0\t0,0,28,0\t0,0,34,0\t0,0,22,0\t0,0,26,0\t0,0,44,0\t0,0,0,0\t0,0,0,0\t0,0,0,0\t0,0,31,0\t0,0,18,0\t0,0,171,0\t0,0,130,0\t0,0,0,0\t0,0,0,0\t0,0,82,0\t0,0,52,0\t0,0,55,0\t0,0,147,0\t0,0,20,0\t0,0,48,0\t1,0,42,0\t0,0,92,0\t0,0,0,0\t0,0,0,0\t0,0,57,0\t0,0,125,0\t0,0,0,0\t0,0,0,0\t0,0,41,0\t0,0,35,0\r\n",
      "36\t8\t2769\t0,50,0,0\t0,0,0,0\t0,103,0,0\t0,110,0,0\t0,169,0,0\t0,65,0,0\t0,88,0,0\t0,54,0,0\t0,115,0,0\t0,145,0,0\t0,33,0,0\t0,17,0,0\t0,45,0,0\t0,34,0,0\t0,49,0,0\t0,47,0,0\t0,111,0,0\t0,35,0,0\t0,43,0,0\t0,18,0,0\t0,6,0,0\t0,12,0,0\t0,0,0,0\t0,34,0,0\t0,80,0,0\t0,6,0,0\t0,28,0,0\t0,34,0,0\t0,22,0,0\t0,26,0,0\t0,44,0,0\t0,0,0,0\t0,0,0,0\t0,0,0,0\t0,31,0,0\t0,17,0,1\t0,170,0,0\t0,130,0,0\t0,0,0,0\t0,0,0,0\t0,82,0,0\t0,52,0,0\t0,55,0,0\t0,147,0,0\t0,20,0,0\t0,48,0,0\t0,43,0,0\t0,92,0,0\t0,0,0,0\t0,0,0,0\t0,57,0,0\t0,125,0,0\t0,0,0,0\t0,0,0,0\t0,41,0,0\t0,35,0,0\r\n"
     ]
    }
   ],
   "source": [
    "!head data3.txt"
   ]
  },
  {
   "cell_type": "code",
   "execution_count": 8,
   "metadata": {
    "collapsed": false
   },
   "outputs": [],
   "source": [
    "# We only want one record for each locus (CHROM), so we arbitrily choose POS 10 for each CHROM (from column 2).\n",
    "!awk '$2 == 10 { print $0 }' data3.txt > data3-1.txt"
   ]
  },
  {
   "cell_type": "code",
   "execution_count": 10,
   "metadata": {
    "collapsed": false
   },
   "outputs": [
    {
     "name": "stdout",
     "output_type": "stream",
     "text": [
      "36\t10\t2769\t50,0,0,0\t0,0,0,0\t103,0,0,0\t110,0,0,0\t169,0,0,0\t65,0,0,0\t88,0,0,0\t54,0,0,0\t115,0,0,0\t146,0,0,0\t32,0,0,0\t17,0,0,0\t45,0,0,0\t34,0,0,0\t49,0,0,0\t47,0,0,0\t111,0,0,0\t35,0,0,0\t43,0,0,0\t18,0,0,0\t6,0,0,0\t12,0,0,0\t0,0,0,0\t34,0,0,0\t80,0,0,0\t6,0,0,0\t28,0,0,0\t34,0,0,0\t22,0,0,0\t26,0,0,0\t44,0,0,0\t0,0,0,0\t0,0,0,0\t0,0,0,0\t31,0,0,0\t18,0,0,0\t171,0,0,0\t130,0,0,0\t0,0,0,0\t0,0,0,0\t82,0,0,0\t52,0,0,0\t55,0,0,0\t147,0,0,0\t20,0,0,0\t47,0,0,0\t43,0,0,0\t92,0,0,0\t0,0,0,0\t0,0,0,0\t57,0,0,0\t125,0,0,0\t0,0,0,0\t0,0,0,0\t41,0,0,0\t35,0,0,0\r\n",
      "45\t10\t713\t0,0,0,15\t0,0,0,0\t0,0,0,13\t0,0,0,22\t0,0,0,35\t0,0,0,13\t0,0,0,30\t0,0,0,11\t0,0,0,16\t0,0,0,25\t0,0,0,0\t0,0,0,0\t0,6,0,0\t0,0,0,8\t0,0,0,13\t0,0,0,0\t0,0,0,40\t0,0,0,9\t0,0,0,13\t0,0,0,16\t0,0,0,0\t0,0,0,0\t0,0,0,13\t0,0,0,10\t0,0,0,21\t0,0,0,7\t0,0,0,10\t0,10,0,0\t0,0,0,0\t0,8,0,4\t0,4,0,4\t0,12,0,10\t0,5,0,7\t0,0,0,0\t0,16,0,0\t0,0,0,0\t0,0,0,28\t0,0,0,22\t0,0,0,12\t0,0,0,10\t0,22,0,1\t0,0,0,0\t0,0,0,8\t0,0,0,32\t0,0,0,0\t0,0,0,8\t0,0,0,9\t0,0,1,20\t0,0,0,15\t0,0,0,12\t0,10,0,0\t0,14,0,0\t0,0,0,13\t0,1,0,22\t0,19,0,0\t0,8,0,0\r\n",
      "49\t10\t5635\t115,0,0,0\t0,0,0,0\t109,0,0,0\t98,0,0,0\t201,0,0,0\t85,0,0,0\t239,0,0,0\t145,0,0,0\t165,0,0,0\t180,0,0,0\t45,0,0,0\t25,0,0,0\t102,0,0,0\t58,0,0,0\t63,0,0,0\t54,0,0,0\t249,0,0,0\t102,0,0,0\t91,0,0,0\t139,0,0,0\t11,0,0,0\t15,0,0,0\t54,0,0,0\t46,0,0,0\t61,0,0,0\t43,0,0,0\t92,0,0,0\t90,0,0,0\t62,0,0,0\t85,0,0,0\t87,0,0,0\t225,0,0,0\t92,0,0,0\t32,0,0,0\t118,0,0,0\t51,0,0,0\t200,0,0,0\t95,0,0,0\t121,0,0,0\t72,0,0,0\t97,0,0,0\t64,0,0,0\t71,0,0,0\t123,0,0,0\t68,0,0,0\t111,0,0,0\t104,0,0,0\t222,0,0,0\t80,0,0,0\t131,0,0,0\t57,0,0,0\t189,0,0,0\t112,0,0,0\t85,0,0,0\t99,0,0,0\t105,0,0,0\r\n",
      "58\t10\t323\t0,0,0,9\t0,0,0,0\t0,0,0,56\t0,0,0,0\t0,0,0,11\t0,0,0,0\t0,0,0,20\t0,0,0,0\t0,0,0,31\t0,0,0,0\t0,0,0,0\t0,0,0,0\t0,0,0,6\t0,0,0,0\t0,0,0,9\t0,0,0,0\t0,0,0,13\t0,0,0,0\t0,0,0,24\t0,0,0,0\t0,0,0,0\t0,0,0,0\t0,0,0,0\t0,0,0,10\t0,0,0,0\t0,0,0,0\t0,0,0,0\t0,0,0,0\t0,0,0,0\t0,0,0,0\t0,0,0,0\t0,0,0,11\t0,0,0,0\t0,0,0,0\t0,0,0,0\t0,0,0,0\t0,0,0,7\t0,0,0,0\t0,0,0,10\t0,0,0,0\t0,0,0,7\t0,0,0,0\t0,0,0,19\t0,0,0,0\t0,0,0,67\t0,0,0,0\t0,0,0,0\t0,0,0,0\t0,0,0,0\t0,0,0,0\t0,0,0,0\t0,0,0,0\t0,0,0,13\t0,0,0,0\t0,0,0,0\t0,0,0,0\r\n",
      "65\t10\t912\t0,0,0,0\t0,0,0,0\t0,0,0,0\t0,0,0,0\t0,0,0,87\t0,0,0,44\t0,0,0,0\t0,0,0,0\t0,0,0,0\t0,0,0,0\t0,0,0,0\t0,0,0,0\t0,0,0,0\t0,0,0,0\t0,0,0,24\t0,0,0,26\t0,0,0,0\t0,0,0,0\t0,0,0,0\t0,0,0,0\t0,0,0,0\t0,0,0,0\t0,0,0,0\t0,0,0,17\t0,0,0,45\t0,0,0,0\t0,0,0,0\t0,0,0,50\t0,0,0,40\t0,0,0,0\t0,0,0,0\t0,0,0,201\t0,0,0,59\t0,0,0,43\t0,0,0,85\t0,0,0,52\t0,0,0,0\t0,0,0,0\t0,0,0,0\t0,0,0,0\t0,0,0,49\t0,0,0,27\t0,0,0,0\t0,0,0,0\t0,0,0,0\t0,0,0,0\t0,0,0,0\t0,0,0,0\t0,0,0,0\t0,0,0,0\t0,0,0,0\t0,0,0,0\t0,0,0,0\t0,0,0,0\t0,0,0,23\t0,0,0,40\r\n",
      "71\t10\t349\t6,0,0,0\t0,0,0,0\t0,0,0,38\t0,0,0,0\t0,0,0,9\t0,0,0,0\t0,0,0,16\t0,0,0,0\t0,0,0,27\t0,0,0,0\t0,0,0,0\t0,0,0,0\t0,0,0,6\t0,0,0,0\t0,0,0,0\t0,0,0,0\t0,0,0,21\t0,0,0,0\t0,0,0,11\t0,0,0,0\t0,0,0,0\t0,0,0,0\t0,0,0,0\t0,0,0,0\t0,0,0,0\t0,0,0,0\t0,0,0,0\t0,0,0,0\t0,0,0,0\t0,0,0,0\t0,0,0,0\t0,0,0,41\t0,0,0,0\t0,0,0,0\t0,0,0,34\t0,0,0,0\t0,0,0,28\t0,0,0,0\t0,0,0,7\t0,0,0,0\t0,0,0,10\t0,0,0,0\t0,0,0,13\t0,0,0,0\t0,0,0,68\t0,0,0,0\t0,0,0,0\t0,0,0,0\t0,0,0,0\t0,0,0,0\t0,0,0,0\t0,0,0,0\t0,0,0,14\t0,0,0,0\t0,0,0,0\t0,0,0,0\r\n",
      "79\t10\t4543\t0,0,0,0\t0,0,0,0\t0,0,0,0\t0,0,0,0\t205,0,0,0\t78,0,0,0\t741,0,0,0\t373,0,0,0\t0,0,0,0\t0,0,0,0\t62,0,0,0\t38,0,0,0\t0,0,0,0\t0,0,0,0\t148,0,0,0\t89,0,0,0\t0,0,0,0\t0,0,0,0\t0,0,0,0\t0,0,0,0\t0,0,0,0\t0,0,0,0\t0,0,0,0\t93,0,0,0\t109,0,0,0\t0,0,0,0\t0,0,0,0\t0,0,0,0\t0,0,0,0\t0,0,0,0\t0,0,0,0\t0,0,0,0\t0,0,0,0\t0,0,0,0\t175,0,0,0\t191,0,0,0\t323,0,0,0\t213,0,0,0\t264,0,0,0\t151,0,0,0\t103,0,0,0\t138,1,0,0\t146,0,0,0\t224,0,0,0\t116,0,0,0\t201,0,0,0\t0,0,0,0\t0,0,0,0\t0,0,0,0\t0,0,0,0\t0,0,0,0\t0,0,0,0\t0,0,0,0\t0,0,0,0\t161,0,0,0\t200,0,0,0\r\n",
      "80\t10\t1633\t0,93,0,0\t0,0,0,0\t0,0,0,0\t0,0,0,0\t0,0,0,0\t0,0,0,0\t0,0,0,0\t0,0,0,0\t0,0,0,0\t0,0,0,0\t0,29,0,0\t0,18,0,0\t0,87,0,0\t0,80,0,0\t0,0,0,0\t0,0,0,0\t0,0,0,0\t0,0,0,0\t0,0,0,0\t0,0,0,0\t0,0,0,0\t0,0,0,0\t0,0,0,0\t0,0,0,0\t0,0,0,0\t0,0,0,0\t0,0,0,0\t0,50,0,0\t0,68,0,0\t0,0,0,0\t0,0,0,0\t0,245,0,0\t0,149,0,0\t0,0,0,0\t0,0,0,0\t0,0,0,0\t0,0,0,0\t0,0,0,0\t0,0,0,0\t0,0,0,0\t0,0,0,0\t0,0,0,0\t0,96,0,0\t0,163,0,0\t0,0,0,0\t0,0,0,0\t0,0,0,0\t0,0,0,0\t0,160,0,0\t0,111,0,0\t0,123,0,0\t0,161,0,0\t0,0,0,0\t0,0,0,0\t0,0,0,0\t0,0,0,0\r\n",
      "87\t10\t762\t0,0,0,18\t0,0,0,0\t0,0,0,0\t0,0,0,0\t0,0,0,69\t0,0,0,37\t0,0,0,42\t0,0,0,23\t0,0,0,0\t0,0,0,0\t0,0,0,0\t0,0,0,0\t0,0,0,0\t0,0,0,0\t0,0,0,22\t0,0,0,15\t0,0,0,0\t0,0,0,0\t0,0,0,14\t0,0,0,20\t0,0,0,0\t0,0,0,0\t0,0,0,0\t0,0,0,16\t0,0,0,29\t0,0,0,0\t0,0,0,0\t0,0,0,0\t0,0,0,0\t0,0,0,21\t0,0,0,15\t0,0,0,39\t0,0,0,13\t0,0,0,14\t0,0,0,17\t0,0,0,11\t0,0,0,75\t0,0,0,57\t0,0,0,0\t0,0,0,0\t0,0,0,19\t0,0,0,0\t0,0,0,23\t0,0,0,50\t0,0,0,0\t0,0,0,0\t0,0,0,0\t0,0,0,0\t0,0,0,0\t0,0,0,0\t0,0,0,0\t0,0,0,0\t0,0,0,22\t0,0,0,19\t0,0,0,32\t0,0,0,30\r\n",
      "95\t10\t7024\t0,0,0,78\t0,0,0,0\t0,0,0,197\t0,0,0,238\t0,0,0,176\t0,0,0,99\t0,0,0,427\t0,0,0,175\t0,0,0,347\t0,0,0,329\t0,0,0,28\t0,0,0,18\t0,0,0,65\t0,0,0,48\t0,0,0,60\t0,0,0,66\t0,0,0,317\t0,0,0,153\t0,0,0,219\t0,0,0,242\t0,0,0,11\t0,0,0,14\t0,0,0,108\t0,0,0,40\t0,0,0,79\t0,0,0,55\t0,0,0,99\t0,0,0,130\t0,0,0,94\t0,0,0,52\t0,0,0,60\t0,0,0,354\t0,0,0,163\t0,0,0,90\t0,0,0,90\t0,0,0,59\t0,0,0,141\t0,0,0,99\t0,0,0,196\t0,0,0,145\t0,0,0,0\t0,0,0,0\t0,0,0,43\t0,0,0,109\t0,0,0,102\t0,0,0,167\t0,0,0,134\t0,0,0,196\t0,0,0,203\t0,0,0,170\t0,0,0,0\t0,0,0,0\t0,0,0,158\t0,0,0,178\t0,0,0,92\t0,0,0,111\r\n"
     ]
    }
   ],
   "source": [
    "!head data3-1.txt"
   ]
  },
  {
   "cell_type": "code",
   "execution_count": 11,
   "metadata": {
    "collapsed": false
   },
   "outputs": [],
   "source": [
    "# Remove the comma delimiter. After this, the rest of the work will be done in R.\n",
    "!tr ',' '\\t' < data3-1.txt > data3-2.txt"
   ]
  },
  {
   "cell_type": "code",
   "execution_count": 12,
   "metadata": {
    "collapsed": false
   },
   "outputs": [
    {
     "name": "stdout",
     "output_type": "stream",
     "text": [
      "36\t10\t2769\t50\t0\t0\t0\t0\t0\t0\t0\t103\t0\t0\t0\t110\t0\t0\t0\t169\t0\t0\t0\t65\t0\t0\t0\t88\t0\t0\t0\t54\t0\t0\t0\t115\t0\t0\t0\t146\t0\t0\t0\t32\t0\t0\t0\t17\t0\t0\t0\t45\t0\t0\t0\t34\t0\t0\t0\t49\t0\t0\t0\t47\t0\t0\t0\t111\t0\t0\t0\t35\t0\t0\t0\t43\t0\t0\t0\t18\t0\t0\t0\t6\t0\t0\t0\t12\t0\t0\t0\t0\t0\t0\t0\t34\t0\t0\t0\t80\t0\t0\t0\t6\t0\t0\t0\t28\t0\t0\t0\t34\t0\t0\t0\t22\t0\t0\t0\t26\t0\t0\t0\t44\t0\t0\t0\t0\t0\t0\t0\t0\t0\t0\t0\t0\t0\t0\t0\t31\t0\t0\t0\t18\t0\t0\t0\t171\t0\t0\t0\t130\t0\t0\t0\t0\t0\t0\t0\t0\t0\t0\t0\t82\t0\t0\t0\t52\t0\t0\t0\t55\t0\t0\t0\t147\t0\t0\t0\t20\t0\t0\t0\t47\t0\t0\t0\t43\t0\t0\t0\t92\t0\t0\t0\t0\t0\t0\t0\t0\t0\t0\t0\t57\t0\t0\t0\t125\t0\t0\t0\t0\t0\t0\t0\t0\t0\t0\t0\t41\t0\t0\t0\t35\t0\t0\t0\r\n",
      "45\t10\t713\t0\t0\t0\t15\t0\t0\t0\t0\t0\t0\t0\t13\t0\t0\t0\t22\t0\t0\t0\t35\t0\t0\t0\t13\t0\t0\t0\t30\t0\t0\t0\t11\t0\t0\t0\t16\t0\t0\t0\t25\t0\t0\t0\t0\t0\t0\t0\t0\t0\t6\t0\t0\t0\t0\t0\t8\t0\t0\t0\t13\t0\t0\t0\t0\t0\t0\t0\t40\t0\t0\t0\t9\t0\t0\t0\t13\t0\t0\t0\t16\t0\t0\t0\t0\t0\t0\t0\t0\t0\t0\t0\t13\t0\t0\t0\t10\t0\t0\t0\t21\t0\t0\t0\t7\t0\t0\t0\t10\t0\t10\t0\t0\t0\t0\t0\t0\t0\t8\t0\t4\t0\t4\t0\t4\t0\t12\t0\t10\t0\t5\t0\t7\t0\t0\t0\t0\t0\t16\t0\t0\t0\t0\t0\t0\t0\t0\t0\t28\t0\t0\t0\t22\t0\t0\t0\t12\t0\t0\t0\t10\t0\t22\t0\t1\t0\t0\t0\t0\t0\t0\t0\t8\t0\t0\t0\t32\t0\t0\t0\t0\t0\t0\t0\t8\t0\t0\t0\t9\t0\t0\t1\t20\t0\t0\t0\t15\t0\t0\t0\t12\t0\t10\t0\t0\t0\t14\t0\t0\t0\t0\t0\t13\t0\t1\t0\t22\t0\t19\t0\t0\t0\t8\t0\t0\r\n",
      "49\t10\t5635\t115\t0\t0\t0\t0\t0\t0\t0\t109\t0\t0\t0\t98\t0\t0\t0\t201\t0\t0\t0\t85\t0\t0\t0\t239\t0\t0\t0\t145\t0\t0\t0\t165\t0\t0\t0\t180\t0\t0\t0\t45\t0\t0\t0\t25\t0\t0\t0\t102\t0\t0\t0\t58\t0\t0\t0\t63\t0\t0\t0\t54\t0\t0\t0\t249\t0\t0\t0\t102\t0\t0\t0\t91\t0\t0\t0\t139\t0\t0\t0\t11\t0\t0\t0\t15\t0\t0\t0\t54\t0\t0\t0\t46\t0\t0\t0\t61\t0\t0\t0\t43\t0\t0\t0\t92\t0\t0\t0\t90\t0\t0\t0\t62\t0\t0\t0\t85\t0\t0\t0\t87\t0\t0\t0\t225\t0\t0\t0\t92\t0\t0\t0\t32\t0\t0\t0\t118\t0\t0\t0\t51\t0\t0\t0\t200\t0\t0\t0\t95\t0\t0\t0\t121\t0\t0\t0\t72\t0\t0\t0\t97\t0\t0\t0\t64\t0\t0\t0\t71\t0\t0\t0\t123\t0\t0\t0\t68\t0\t0\t0\t111\t0\t0\t0\t104\t0\t0\t0\t222\t0\t0\t0\t80\t0\t0\t0\t131\t0\t0\t0\t57\t0\t0\t0\t189\t0\t0\t0\t112\t0\t0\t0\t85\t0\t0\t0\t99\t0\t0\t0\t105\t0\t0\t0\r\n",
      "58\t10\t323\t0\t0\t0\t9\t0\t0\t0\t0\t0\t0\t0\t56\t0\t0\t0\t0\t0\t0\t0\t11\t0\t0\t0\t0\t0\t0\t0\t20\t0\t0\t0\t0\t0\t0\t0\t31\t0\t0\t0\t0\t0\t0\t0\t0\t0\t0\t0\t0\t0\t0\t0\t6\t0\t0\t0\t0\t0\t0\t0\t9\t0\t0\t0\t0\t0\t0\t0\t13\t0\t0\t0\t0\t0\t0\t0\t24\t0\t0\t0\t0\t0\t0\t0\t0\t0\t0\t0\t0\t0\t0\t0\t0\t0\t0\t0\t10\t0\t0\t0\t0\t0\t0\t0\t0\t0\t0\t0\t0\t0\t0\t0\t0\t0\t0\t0\t0\t0\t0\t0\t0\t0\t0\t0\t0\t0\t0\t0\t11\t0\t0\t0\t0\t0\t0\t0\t0\t0\t0\t0\t0\t0\t0\t0\t0\t0\t0\t0\t7\t0\t0\t0\t0\t0\t0\t0\t10\t0\t0\t0\t0\t0\t0\t0\t7\t0\t0\t0\t0\t0\t0\t0\t19\t0\t0\t0\t0\t0\t0\t0\t67\t0\t0\t0\t0\t0\t0\t0\t0\t0\t0\t0\t0\t0\t0\t0\t0\t0\t0\t0\t0\t0\t0\t0\t0\t0\t0\t0\t0\t0\t0\t0\t13\t0\t0\t0\t0\t0\t0\t0\t0\t0\t0\t0\t0\r\n",
      "65\t10\t912\t0\t0\t0\t0\t0\t0\t0\t0\t0\t0\t0\t0\t0\t0\t0\t0\t0\t0\t0\t87\t0\t0\t0\t44\t0\t0\t0\t0\t0\t0\t0\t0\t0\t0\t0\t0\t0\t0\t0\t0\t0\t0\t0\t0\t0\t0\t0\t0\t0\t0\t0\t0\t0\t0\t0\t0\t0\t0\t0\t24\t0\t0\t0\t26\t0\t0\t0\t0\t0\t0\t0\t0\t0\t0\t0\t0\t0\t0\t0\t0\t0\t0\t0\t0\t0\t0\t0\t0\t0\t0\t0\t0\t0\t0\t0\t17\t0\t0\t0\t45\t0\t0\t0\t0\t0\t0\t0\t0\t0\t0\t0\t50\t0\t0\t0\t40\t0\t0\t0\t0\t0\t0\t0\t0\t0\t0\t0\t201\t0\t0\t0\t59\t0\t0\t0\t43\t0\t0\t0\t85\t0\t0\t0\t52\t0\t0\t0\t0\t0\t0\t0\t0\t0\t0\t0\t0\t0\t0\t0\t0\t0\t0\t0\t49\t0\t0\t0\t27\t0\t0\t0\t0\t0\t0\t0\t0\t0\t0\t0\t0\t0\t0\t0\t0\t0\t0\t0\t0\t0\t0\t0\t0\t0\t0\t0\t0\t0\t0\t0\t0\t0\t0\t0\t0\t0\t0\t0\t0\t0\t0\t0\t0\t0\t0\t0\t0\t0\t0\t0\t23\t0\t0\t0\t40\r\n",
      "71\t10\t349\t6\t0\t0\t0\t0\t0\t0\t0\t0\t0\t0\t38\t0\t0\t0\t0\t0\t0\t0\t9\t0\t0\t0\t0\t0\t0\t0\t16\t0\t0\t0\t0\t0\t0\t0\t27\t0\t0\t0\t0\t0\t0\t0\t0\t0\t0\t0\t0\t0\t0\t0\t6\t0\t0\t0\t0\t0\t0\t0\t0\t0\t0\t0\t0\t0\t0\t0\t21\t0\t0\t0\t0\t0\t0\t0\t11\t0\t0\t0\t0\t0\t0\t0\t0\t0\t0\t0\t0\t0\t0\t0\t0\t0\t0\t0\t0\t0\t0\t0\t0\t0\t0\t0\t0\t0\t0\t0\t0\t0\t0\t0\t0\t0\t0\t0\t0\t0\t0\t0\t0\t0\t0\t0\t0\t0\t0\t0\t41\t0\t0\t0\t0\t0\t0\t0\t0\t0\t0\t0\t34\t0\t0\t0\t0\t0\t0\t0\t28\t0\t0\t0\t0\t0\t0\t0\t7\t0\t0\t0\t0\t0\t0\t0\t10\t0\t0\t0\t0\t0\t0\t0\t13\t0\t0\t0\t0\t0\t0\t0\t68\t0\t0\t0\t0\t0\t0\t0\t0\t0\t0\t0\t0\t0\t0\t0\t0\t0\t0\t0\t0\t0\t0\t0\t0\t0\t0\t0\t0\t0\t0\t0\t14\t0\t0\t0\t0\t0\t0\t0\t0\t0\t0\t0\t0\r\n",
      "79\t10\t4543\t0\t0\t0\t0\t0\t0\t0\t0\t0\t0\t0\t0\t0\t0\t0\t0\t205\t0\t0\t0\t78\t0\t0\t0\t741\t0\t0\t0\t373\t0\t0\t0\t0\t0\t0\t0\t0\t0\t0\t0\t62\t0\t0\t0\t38\t0\t0\t0\t0\t0\t0\t0\t0\t0\t0\t0\t148\t0\t0\t0\t89\t0\t0\t0\t0\t0\t0\t0\t0\t0\t0\t0\t0\t0\t0\t0\t0\t0\t0\t0\t0\t0\t0\t0\t0\t0\t0\t0\t0\t0\t0\t0\t93\t0\t0\t0\t109\t0\t0\t0\t0\t0\t0\t0\t0\t0\t0\t0\t0\t0\t0\t0\t0\t0\t0\t0\t0\t0\t0\t0\t0\t0\t0\t0\t0\t0\t0\t0\t0\t0\t0\t0\t0\t0\t0\t0\t175\t0\t0\t0\t191\t0\t0\t0\t323\t0\t0\t0\t213\t0\t0\t0\t264\t0\t0\t0\t151\t0\t0\t0\t103\t0\t0\t0\t138\t1\t0\t0\t146\t0\t0\t0\t224\t0\t0\t0\t116\t0\t0\t0\t201\t0\t0\t0\t0\t0\t0\t0\t0\t0\t0\t0\t0\t0\t0\t0\t0\t0\t0\t0\t0\t0\t0\t0\t0\t0\t0\t0\t0\t0\t0\t0\t0\t0\t0\t0\t161\t0\t0\t0\t200\t0\t0\t0\r\n",
      "80\t10\t1633\t0\t93\t0\t0\t0\t0\t0\t0\t0\t0\t0\t0\t0\t0\t0\t0\t0\t0\t0\t0\t0\t0\t0\t0\t0\t0\t0\t0\t0\t0\t0\t0\t0\t0\t0\t0\t0\t0\t0\t0\t0\t29\t0\t0\t0\t18\t0\t0\t0\t87\t0\t0\t0\t80\t0\t0\t0\t0\t0\t0\t0\t0\t0\t0\t0\t0\t0\t0\t0\t0\t0\t0\t0\t0\t0\t0\t0\t0\t0\t0\t0\t0\t0\t0\t0\t0\t0\t0\t0\t0\t0\t0\t0\t0\t0\t0\t0\t0\t0\t0\t0\t0\t0\t0\t0\t0\t0\t0\t0\t50\t0\t0\t0\t68\t0\t0\t0\t0\t0\t0\t0\t0\t0\t0\t0\t245\t0\t0\t0\t149\t0\t0\t0\t0\t0\t0\t0\t0\t0\t0\t0\t0\t0\t0\t0\t0\t0\t0\t0\t0\t0\t0\t0\t0\t0\t0\t0\t0\t0\t0\t0\t0\t0\t0\t0\t0\t0\t0\t0\t96\t0\t0\t0\t163\t0\t0\t0\t0\t0\t0\t0\t0\t0\t0\t0\t0\t0\t0\t0\t0\t0\t0\t0\t160\t0\t0\t0\t111\t0\t0\t0\t123\t0\t0\t0\t161\t0\t0\t0\t0\t0\t0\t0\t0\t0\t0\t0\t0\t0\t0\t0\t0\t0\t0\r\n",
      "87\t10\t762\t0\t0\t0\t18\t0\t0\t0\t0\t0\t0\t0\t0\t0\t0\t0\t0\t0\t0\t0\t69\t0\t0\t0\t37\t0\t0\t0\t42\t0\t0\t0\t23\t0\t0\t0\t0\t0\t0\t0\t0\t0\t0\t0\t0\t0\t0\t0\t0\t0\t0\t0\t0\t0\t0\t0\t0\t0\t0\t0\t22\t0\t0\t0\t15\t0\t0\t0\t0\t0\t0\t0\t0\t0\t0\t0\t14\t0\t0\t0\t20\t0\t0\t0\t0\t0\t0\t0\t0\t0\t0\t0\t0\t0\t0\t0\t16\t0\t0\t0\t29\t0\t0\t0\t0\t0\t0\t0\t0\t0\t0\t0\t0\t0\t0\t0\t0\t0\t0\t0\t21\t0\t0\t0\t15\t0\t0\t0\t39\t0\t0\t0\t13\t0\t0\t0\t14\t0\t0\t0\t17\t0\t0\t0\t11\t0\t0\t0\t75\t0\t0\t0\t57\t0\t0\t0\t0\t0\t0\t0\t0\t0\t0\t0\t19\t0\t0\t0\t0\t0\t0\t0\t23\t0\t0\t0\t50\t0\t0\t0\t0\t0\t0\t0\t0\t0\t0\t0\t0\t0\t0\t0\t0\t0\t0\t0\t0\t0\t0\t0\t0\t0\t0\t0\t0\t0\t0\t0\t0\t0\t0\t0\t22\t0\t0\t0\t19\t0\t0\t0\t32\t0\t0\t0\t30\r\n",
      "95\t10\t7024\t0\t0\t0\t78\t0\t0\t0\t0\t0\t0\t0\t197\t0\t0\t0\t238\t0\t0\t0\t176\t0\t0\t0\t99\t0\t0\t0\t427\t0\t0\t0\t175\t0\t0\t0\t347\t0\t0\t0\t329\t0\t0\t0\t28\t0\t0\t0\t18\t0\t0\t0\t65\t0\t0\t0\t48\t0\t0\t0\t60\t0\t0\t0\t66\t0\t0\t0\t317\t0\t0\t0\t153\t0\t0\t0\t219\t0\t0\t0\t242\t0\t0\t0\t11\t0\t0\t0\t14\t0\t0\t0\t108\t0\t0\t0\t40\t0\t0\t0\t79\t0\t0\t0\t55\t0\t0\t0\t99\t0\t0\t0\t130\t0\t0\t0\t94\t0\t0\t0\t52\t0\t0\t0\t60\t0\t0\t0\t354\t0\t0\t0\t163\t0\t0\t0\t90\t0\t0\t0\t90\t0\t0\t0\t59\t0\t0\t0\t141\t0\t0\t0\t99\t0\t0\t0\t196\t0\t0\t0\t145\t0\t0\t0\t0\t0\t0\t0\t0\t0\t0\t0\t43\t0\t0\t0\t109\t0\t0\t0\t102\t0\t0\t0\t167\t0\t0\t0\t134\t0\t0\t0\t196\t0\t0\t0\t203\t0\t0\t0\t170\t0\t0\t0\t0\t0\t0\t0\t0\t0\t0\t0\t158\t0\t0\t0\t178\t0\t0\t0\t92\t0\t0\t0\t111\r\n"
     ]
    }
   ],
   "source": [
    "!head data3-2.txt"
   ]
  },
  {
   "cell_type": "markdown",
   "metadata": {},
   "source": [
    "### This file was then brought into R for analysis. See /Users/jd/snpEff/Counts-edgeR.R"
   ]
  },
  {
   "cell_type": "code",
   "execution_count": 55,
   "metadata": {
    "collapsed": false
   },
   "outputs": [
    {
     "ename": "SyntaxError",
     "evalue": "invalid syntax (<ipython-input-55-44dafaf1902f>, line 5)",
     "output_type": "error",
     "traceback": [
      "\u001b[0;36m  File \u001b[0;32m\"<ipython-input-55-44dafaf1902f>\"\u001b[0;36m, line \u001b[0;32m5\u001b[0m\n\u001b[0;31m    data2.2 <- read.delim(\"~/snpEff/data2-2.txt\", header=FALSE)\u001b[0m\n\u001b[0m          ^\u001b[0m\n\u001b[0;31mSyntaxError\u001b[0m\u001b[0;31m:\u001b[0m invalid syntax\n"
     ]
    }
   ],
   "source": [
    "## This script reads in a text file derived from the \"Base Counts\"\n",
    "## .vcf output from ipyrad and performs analysis of counts with edgeR package\n",
    "\n",
    "# Read in data file\n",
    "data2.2 <- read.delim(\"~/snpEff/data2-2.txt\", header=FALSE)\n",
    "# Since the base counts were split into four columns, these need to be summed\n",
    "test <- t(sapply(seq(4,ncol(data2.2), by=4), function(i) {\n",
    "     indx <- i:(i+3)\n",
    "     rowSums(data2.2[indx[indx <= ncol(data2.2)]])}))\n",
    "#The resulting file needs to be transposed and turned into a dataframe\n",
    "test2 <- t(test)\n",
    "test3 <- as.data.frame(test2)\n",
    "#Add header names\n",
    "header2 <- read.delim(\"~/snpEff/header2.txt\", header=FALSE)\n",
    "names <- t(header2)\n",
    "names2 <-as.vector(names)\n",
    "colnames(test3) <- names2\n",
    "#Select samples of interest (some have very low sample sizes and some are P. astreoides)\n",
    "test4 <- test3[,c(1,5,6,7,8,9,10,11,12,13,14,15,16,17,18,19,20,21,22,23,24,26,27,28,29,30,31,32,33,34,35,36,38,39,40,41,42,43,44,45,46,47,48,49,50,51,52,53,54,55,56,57,58,59,60)]\n",
    "#Remove rows that have all zeros\n",
    "test5 <- test4[apply(test4[,-1], 1, function(x) !all(x==0)),]\n",
    "\n",
    "# Now use edgeR package to perform analysis of count data\n",
    "\n",
    "library(\"edgeR\")\n",
    "#read in the file to edgeR\n",
    "counts <- DGEList(counts=test5)\n",
    "counts$samples\n",
    "#Remove low abundance loci\n",
    "keep <- rowSums(cpm(counts)>1)\n",
    "counts2 <- counts[keep, , keep.lib.sizes=FALSE]\n",
    "#TMM normalization (corrects for library size)\n",
    "counts3 <- calcNormFactors(counts2)\n",
    "counts3$samples\n",
    "#MDS plt\n",
    "plotMDS(counts3)\n",
    "#Heatmap\n",
    "logcpm <- cpm(counts3, prior.count=2, log=TRUE)\n",
    "heatmap(logcpm)"
   ]
  },
  {
   "cell_type": "code",
   "execution_count": null,
   "metadata": {
    "collapsed": true
   },
   "outputs": [],
   "source": []
  }
 ],
 "metadata": {
  "anaconda-cloud": {},
  "kernelspec": {
   "display_name": "Python [Root]",
   "language": "python",
   "name": "Python [Root]"
  },
  "language_info": {
   "codemirror_mode": {
    "name": "ipython",
    "version": 2
   },
   "file_extension": ".py",
   "mimetype": "text/x-python",
   "name": "python",
   "nbconvert_exporter": "python",
   "pygments_lexer": "ipython2",
   "version": "2.7.12"
  }
 },
 "nbformat": 4,
 "nbformat_minor": 0
}
